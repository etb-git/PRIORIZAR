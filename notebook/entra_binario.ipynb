{
  "cells": [
    {
      "cell_type": "markdown",
      "metadata": {
        "id": "asfRC48B3cr8"
      },
      "source": [
        "En este notebook se hara el proceso de **PRIORIZAR** , se tomaran las PQR Desde diciembre del 2022 a  **2023 a Marzo(periodo de tres meses)**\n"
      ]
    },
    {
      "cell_type": "markdown",
      "metadata": {
        "id": "hFjCIGvRLWHN"
      },
      "source": [
        "# CONFIGURAR SPARK"
      ]
    },
    {
      "cell_type": "code",
      "execution_count": null,
      "metadata": {},
      "outputs": [],
      "source": [
        "import pandas as pd\n",
        "import sys\n",
        "sys.path.append('../librerias')\n"
      ]
    },
    {
      "cell_type": "markdown",
      "metadata": {
        "id": "QdSySf-J3Oiy"
      },
      "source": [
        "# LIBRERIAS\n",
        "\n",
        "\n",
        "\n"
      ]
    },
    {
      "cell_type": "code",
      "execution_count": null,
      "metadata": {
        "id": "5v3kkbvVU9pJ"
      },
      "outputs": [],
      "source": [
        "!python -m spacy download es_core_news_sm\n",
        "\n",
        "!python -m spacy download es_core_news_lg"
      ]
    },
    {
      "cell_type": "code",
      "execution_count": 2,
      "metadata": {
        "colab": {
          "base_uri": "https://localhost:8080/"
        },
        "id": "4HQpIbqTHV86",
        "outputId": "21ef21bc-f152-438d-a8bb-986ebedcc8c8"
      },
      "outputs": [
        {
          "name": "stderr",
          "output_type": "stream",
          "text": [
            "[nltk_data] Downloading package stopwords to /root/nltk_data...\n",
            "[nltk_data]   Package stopwords is already up-to-date!\n",
            "[nltk_data] Downloading package punkt to /root/nltk_data...\n",
            "[nltk_data]   Package punkt is already up-to-date!\n",
            "[nltk_data] Downloading package wordnet to /root/nltk_data...\n",
            "[nltk_data]   Package wordnet is already up-to-date!\n",
            "[nltk_data] Downloading package omw-1.4 to /root/nltk_data...\n",
            "[nltk_data]   Package omw-1.4 is already up-to-date!\n"
          ]
        }
      ],
      "source": [
        "import pandas as pd\n",
        "\n",
        "from google.colab import drive\n",
        "import gc\n",
        "\n",
        "import seaborn as sns\n",
        "import plotly.express as px\n",
        "\n",
        "import numpy as np\n",
        "\n",
        "import sqlite3\n",
        "from sqlite3 import Error\n",
        "import os\n",
        "import re, string\n",
        "from nltk.corpus import stopwords\n",
        "import nltk\n",
        "import matplotlib.pyplot as plt\n",
        "\n",
        "import torch\n",
        "#from transformers import AutoTokenizer, BertForSequenceClassification\n",
        "\n",
        "\n",
        "\n",
        "\n",
        "nltk.download(\"stopwords\")\n",
        "nltk.download('punkt')\n",
        "nltk.download('wordnet')\n",
        "nltk.download('omw-1.4')\n",
        "\n",
        "\n",
        "import pandas as pd\n",
        "import re, string\n",
        "\n",
        "\n",
        "pd.options.display.max_columns = None\n",
        "\n",
        "#from sentence_transformers import SentenceTransformer, util\n",
        "#from transformers import *\n",
        "\n",
        "import spacy\n",
        "\n",
        "nlp = spacy.load('es_core_news_sm', disable=['tagger', 'parser', 'ner'])\n",
        "\n",
        "\n",
        "\n",
        "from sklearn.preprocessing import StandardScaler, MinMaxScaler\n",
        "from sklearn import preprocessing\n",
        "\n",
        "\n",
        "#.master(\"local[2]\")\n"
      ]
    },
    {
      "cell_type": "code",
      "execution_count": null,
      "metadata": {},
      "outputs": [],
      "source": [
        "%pip install pycorrector\n",
        "%pip install unidecode\n",
        "%pip install pyspellchecker"
      ]
    },
    {
      "cell_type": "markdown",
      "metadata": {
        "id": "26MilXbg3TbA"
      },
      "source": [
        "# ETL"
      ]
    },
    {
      "cell_type": "code",
      "execution_count": 13,
      "metadata": {
        "id": "uf-CJREU8cSq"
      },
      "outputs": [
        {
          "data": {
            "text/html": [
              "\n",
              "  <div id=\"df-3eda78f4-ebc2-412f-b0e0-7eb5e30bbbb9\">\n",
              "    <div class=\"colab-df-container\">\n",
              "      <div>\n",
              "<style scoped>\n",
              "    .dataframe tbody tr th:only-of-type {\n",
              "        vertical-align: middle;\n",
              "    }\n",
              "\n",
              "    .dataframe tbody tr th {\n",
              "        vertical-align: top;\n",
              "    }\n",
              "\n",
              "    .dataframe thead th {\n",
              "        text-align: right;\n",
              "    }\n",
              "</style>\n",
              "<table border=\"1\" class=\"dataframe\">\n",
              "  <thead>\n",
              "    <tr style=\"text-align: right;\">\n",
              "      <th></th>\n",
              "      <th>index</th>\n",
              "      <th>FECHA_CREACION</th>\n",
              "      <th>NUMERO_PQR</th>\n",
              "      <th>DESCRIPCION_PQR</th>\n",
              "      <th>clasificacion</th>\n",
              "    </tr>\n",
              "  </thead>\n",
              "  <tbody>\n",
              "    <tr>\n",
              "      <th>0</th>\n",
              "      <td>0</td>\n",
              "      <td>1/12/22 5:57</td>\n",
              "      <td>MDM-PQR-35424576</td>\n",
              "      <td>Linea: 6013842997 Nombre: LINA MARIA CESPEDES ...</td>\n",
              "      <td>1.0</td>\n",
              "    </tr>\n",
              "    <tr>\n",
              "      <th>1</th>\n",
              "      <td>1</td>\n",
              "      <td>1/12/22 7:06</td>\n",
              "      <td>MDM-PQR-35425135</td>\n",
              "      <td>Gestión de llamada:Se valida en factura que es...</td>\n",
              "      <td>1.0</td>\n",
              "    </tr>\n",
              "    <tr>\n",
              "      <th>2</th>\n",
              "      <td>2</td>\n",
              "      <td>1/12/22 7:28</td>\n",
              "      <td>MDM-PQR-35425426</td>\n",
              "      <td>Nombre de quien se comunica:WALTER ARROYO CAIC...</td>\n",
              "      <td>1.0</td>\n",
              "    </tr>\n",
              "    <tr>\n",
              "      <th>3</th>\n",
              "      <td>3</td>\n",
              "      <td>1/12/22 7:46</td>\n",
              "      <td>MDM-PQR-35425697</td>\n",
              "      <td>APP MIETB// INFORMACIÓN DE   PAGO  DOBLE SE  L...</td>\n",
              "      <td>1.0</td>\n",
              "    </tr>\n",
              "    <tr>\n",
              "      <th>4</th>\n",
              "      <td>4</td>\n",
              "      <td>1/12/22 7:56</td>\n",
              "      <td>MDM-PQR-35425883</td>\n",
              "      <td>ASEG// LT 6013350275 //EXPLICACIÓN CONCEPTOS F...</td>\n",
              "      <td>1.0</td>\n",
              "    </tr>\n",
              "    <tr>\n",
              "      <th>...</th>\n",
              "      <td>...</td>\n",
              "      <td>...</td>\n",
              "      <td>...</td>\n",
              "      <td>...</td>\n",
              "      <td>...</td>\n",
              "    </tr>\n",
              "    <tr>\n",
              "      <th>15520</th>\n",
              "      <td>15520</td>\n",
              "      <td>17/02/23 11:36</td>\n",
              "      <td>MDM-PQR-37150712</td>\n",
              "      <td>linea 6017628666 cliente URIEL ERNESTO GERENA ...</td>\n",
              "      <td>0.0</td>\n",
              "    </tr>\n",
              "    <tr>\n",
              "      <th>15521</th>\n",
              "      <td>15521</td>\n",
              "      <td>17/02/23 11:39</td>\n",
              "      <td>MDM-PQR-37150816</td>\n",
              "      <td>nombre: MARISOL ANGELICA CRUZ RODRIGUEZ   cc: ...</td>\n",
              "      <td>0.0</td>\n",
              "    </tr>\n",
              "    <tr>\n",
              "      <th>15522</th>\n",
              "      <td>15522</td>\n",
              "      <td>17/02/23 11:51</td>\n",
              "      <td>MDM-PQR-37151180</td>\n",
              "      <td>nombre: ANA GLADYS PARADA VARGAS cc: 35464758 ...</td>\n",
              "      <td>0.0</td>\n",
              "    </tr>\n",
              "    <tr>\n",
              "      <th>15523</th>\n",
              "      <td>15523</td>\n",
              "      <td>17/02/23 11:51</td>\n",
              "      <td>MDM-PQR-37151190</td>\n",
              "      <td>ct solicita envio de factura se envia documento</td>\n",
              "      <td>0.0</td>\n",
              "    </tr>\n",
              "    <tr>\n",
              "      <th>15524</th>\n",
              "      <td>15524</td>\n",
              "      <td>17/02/23 11:54</td>\n",
              "      <td>MDM-PQR-37151317</td>\n",
              "      <td>FECHA  Y HORA  DE GESTION :28/02/2023/22:00 LI...</td>\n",
              "      <td>0.0</td>\n",
              "    </tr>\n",
              "  </tbody>\n",
              "</table>\n",
              "<p>15525 rows × 5 columns</p>\n",
              "</div>\n",
              "      <button class=\"colab-df-convert\" onclick=\"convertToInteractive('df-3eda78f4-ebc2-412f-b0e0-7eb5e30bbbb9')\"\n",
              "              title=\"Convert this dataframe to an interactive table.\"\n",
              "              style=\"display:none;\">\n",
              "        \n",
              "  <svg xmlns=\"http://www.w3.org/2000/svg\" height=\"24px\"viewBox=\"0 0 24 24\"\n",
              "       width=\"24px\">\n",
              "    <path d=\"M0 0h24v24H0V0z\" fill=\"none\"/>\n",
              "    <path d=\"M18.56 5.44l.94 2.06.94-2.06 2.06-.94-2.06-.94-.94-2.06-.94 2.06-2.06.94zm-11 1L8.5 8.5l.94-2.06 2.06-.94-2.06-.94L8.5 2.5l-.94 2.06-2.06.94zm10 10l.94 2.06.94-2.06 2.06-.94-2.06-.94-.94-2.06-.94 2.06-2.06.94z\"/><path d=\"M17.41 7.96l-1.37-1.37c-.4-.4-.92-.59-1.43-.59-.52 0-1.04.2-1.43.59L10.3 9.45l-7.72 7.72c-.78.78-.78 2.05 0 2.83L4 21.41c.39.39.9.59 1.41.59.51 0 1.02-.2 1.41-.59l7.78-7.78 2.81-2.81c.8-.78.8-2.07 0-2.86zM5.41 20L4 18.59l7.72-7.72 1.47 1.35L5.41 20z\"/>\n",
              "  </svg>\n",
              "      </button>\n",
              "      \n",
              "  <style>\n",
              "    .colab-df-container {\n",
              "      display:flex;\n",
              "      flex-wrap:wrap;\n",
              "      gap: 12px;\n",
              "    }\n",
              "\n",
              "    .colab-df-convert {\n",
              "      background-color: #E8F0FE;\n",
              "      border: none;\n",
              "      border-radius: 50%;\n",
              "      cursor: pointer;\n",
              "      display: none;\n",
              "      fill: #1967D2;\n",
              "      height: 32px;\n",
              "      padding: 0 0 0 0;\n",
              "      width: 32px;\n",
              "    }\n",
              "\n",
              "    .colab-df-convert:hover {\n",
              "      background-color: #E2EBFA;\n",
              "      box-shadow: 0px 1px 2px rgba(60, 64, 67, 0.3), 0px 1px 3px 1px rgba(60, 64, 67, 0.15);\n",
              "      fill: #174EA6;\n",
              "    }\n",
              "\n",
              "    [theme=dark] .colab-df-convert {\n",
              "      background-color: #3B4455;\n",
              "      fill: #D2E3FC;\n",
              "    }\n",
              "\n",
              "    [theme=dark] .colab-df-convert:hover {\n",
              "      background-color: #434B5C;\n",
              "      box-shadow: 0px 1px 3px 1px rgba(0, 0, 0, 0.15);\n",
              "      filter: drop-shadow(0px 1px 2px rgba(0, 0, 0, 0.3));\n",
              "      fill: #FFFFFF;\n",
              "    }\n",
              "  </style>\n",
              "\n",
              "      <script>\n",
              "        const buttonEl =\n",
              "          document.querySelector('#df-3eda78f4-ebc2-412f-b0e0-7eb5e30bbbb9 button.colab-df-convert');\n",
              "        buttonEl.style.display =\n",
              "          google.colab.kernel.accessAllowed ? 'block' : 'none';\n",
              "\n",
              "        async function convertToInteractive(key) {\n",
              "          const element = document.querySelector('#df-3eda78f4-ebc2-412f-b0e0-7eb5e30bbbb9');\n",
              "          const dataTable =\n",
              "            await google.colab.kernel.invokeFunction('convertToInteractive',\n",
              "                                                     [key], {});\n",
              "          if (!dataTable) return;\n",
              "\n",
              "          const docLinkHtml = 'Like what you see? Visit the ' +\n",
              "            '<a target=\"_blank\" href=https://colab.research.google.com/notebooks/data_table.ipynb>data table notebook</a>'\n",
              "            + ' to learn more about interactive tables.';\n",
              "          element.innerHTML = '';\n",
              "          dataTable['output_type'] = 'display_data';\n",
              "          await google.colab.output.renderOutput(dataTable, element);\n",
              "          const docLink = document.createElement('div');\n",
              "          docLink.innerHTML = docLinkHtml;\n",
              "          element.appendChild(docLink);\n",
              "        }\n",
              "      </script>\n",
              "    </div>\n",
              "  </div>\n",
              "  "
            ],
            "text/plain": [
              "       index  FECHA_CREACION        NUMERO_PQR  \\\n",
              "0          0    1/12/22 5:57  MDM-PQR-35424576   \n",
              "1          1    1/12/22 7:06  MDM-PQR-35425135   \n",
              "2          2    1/12/22 7:28  MDM-PQR-35425426   \n",
              "3          3    1/12/22 7:46  MDM-PQR-35425697   \n",
              "4          4    1/12/22 7:56  MDM-PQR-35425883   \n",
              "...      ...             ...               ...   \n",
              "15520  15520  17/02/23 11:36  MDM-PQR-37150712   \n",
              "15521  15521  17/02/23 11:39  MDM-PQR-37150816   \n",
              "15522  15522  17/02/23 11:51  MDM-PQR-37151180   \n",
              "15523  15523  17/02/23 11:51  MDM-PQR-37151190   \n",
              "15524  15524  17/02/23 11:54  MDM-PQR-37151317   \n",
              "\n",
              "                                         DESCRIPCION_PQR clasificacion  \n",
              "0      Linea: 6013842997 Nombre: LINA MARIA CESPEDES ...           1.0  \n",
              "1      Gestión de llamada:Se valida en factura que es...           1.0  \n",
              "2      Nombre de quien se comunica:WALTER ARROYO CAIC...           1.0  \n",
              "3      APP MIETB// INFORMACIÓN DE   PAGO  DOBLE SE  L...           1.0  \n",
              "4      ASEG// LT 6013350275 //EXPLICACIÓN CONCEPTOS F...           1.0  \n",
              "...                                                  ...           ...  \n",
              "15520  linea 6017628666 cliente URIEL ERNESTO GERENA ...           0.0  \n",
              "15521  nombre: MARISOL ANGELICA CRUZ RODRIGUEZ   cc: ...           0.0  \n",
              "15522  nombre: ANA GLADYS PARADA VARGAS cc: 35464758 ...           0.0  \n",
              "15523    ct solicita envio de factura se envia documento           0.0  \n",
              "15524  FECHA  Y HORA  DE GESTION :28/02/2023/22:00 LI...           0.0  \n",
              "\n",
              "[15525 rows x 5 columns]"
            ]
          },
          "execution_count": 13,
          "metadata": {},
          "output_type": "execute_result"
        }
      ],
      "source": [
        "\n",
        "pandas_c_F= pd.read_csv('/content/PRIORIZAR/entranamiento_/binario_entrenamiento_cruda.csv',delimiter=';')\n",
        "\n",
        "pandas_c_F= pandas_c_F.fillna(\"vacios\")\n",
        "\n",
        "\n",
        "pandas_c_F"
      ]
    },
    {
      "cell_type": "code",
      "execution_count": null,
      "metadata": {},
      "outputs": [],
      "source": [
        "pandas_c_F.isnull().sum()"
      ]
    },
    {
      "cell_type": "code",
      "execution_count": null,
      "metadata": {},
      "outputs": [],
      "source": [
        "from clean_text import clean_text"
      ]
    },
    {
      "cell_type": "code",
      "execution_count": null,
      "metadata": {},
      "outputs": [],
      "source": [
        "#declare answers and questions\n",
        "descripcion=pandas_c_F.DESCRIPCION_PQR\t\n",
        "\n",
        "\n",
        "\n",
        "# Cleaning the questions\n",
        "\n",
        "clean_descripcion = []\n",
        "for des in descripcion:\n",
        "    clean_descripcion.append(clean_text(des))\n",
        "\n",
        "\n",
        "#restar dos para optener la data de excel y poder comparar\n",
        "\n",
        "clean_descripcion  [1002]"
      ]
    },
    {
      "cell_type": "code",
      "execution_count": null,
      "metadata": {},
      "outputs": [],
      "source": [
        "len(clean_descripcion)"
      ]
    },
    {
      "cell_type": "code",
      "execution_count": null,
      "metadata": {},
      "outputs": [],
      "source": [
        "from tqdm import tqdm\n",
        "from spelling import correct_sentence"
      ]
    },
    {
      "cell_type": "code",
      "execution_count": null,
      "metadata": {},
      "outputs": [],
      "source": [
        "corrected_sentences = []\n",
        "for text in tqdm(clean_descripcion, desc=\"Processing\"):\n",
        "    corrected_sentence = correct_sentence(text)\n",
        "    corrected_sentences.append(corrected_sentence)"
      ]
    },
    {
      "cell_type": "code",
      "execution_count": null,
      "metadata": {},
      "outputs": [],
      "source": [
        "corrected_sentences1=corrected_sentences"
      ]
    },
    {
      "cell_type": "code",
      "execution_count": 4,
      "metadata": {},
      "outputs": [
        {
          "name": "stderr",
          "output_type": "stream",
          "text": [
            "[nltk_data] Downloading package stopwords to /root/nltk_data...\n",
            "[nltk_data]   Package stopwords is already up-to-date!\n",
            "[nltk_data] Downloading package punkt to /root/nltk_data...\n",
            "[nltk_data]   Package punkt is already up-to-date!\n",
            "[nltk_data] Downloading package wordnet to /root/nltk_data...\n",
            "[nltk_data]   Package wordnet is already up-to-date!\n",
            "[nltk_data] Downloading package omw-1.4 to /root/nltk_data...\n",
            "[nltk_data]   Package omw-1.4 is already up-to-date!\n"
          ]
        },
        {
          "name": "stdout",
          "output_type": "stream",
          "text": [
            "11659\n"
          ]
        },
        {
          "data": {
            "text/plain": [
              "['reclamar', 'factura']"
            ]
          },
          "execution_count": 4,
          "metadata": {},
          "output_type": "execute_result"
        }
      ],
      "source": [
        "from lemastem import data_preprocessing\n",
        "\n",
        "\n",
        "clean_descripcion=data_preprocessing(corrected_sentences1)\n",
        "\n",
        "\n",
        "clean_descripcion[883]"
      ]
    },
    {
      "cell_type": "code",
      "execution_count": 7,
      "metadata": {},
      "outputs": [
        {
          "data": {
            "text/plain": [
              "['informar',\n",
              " 'siembre',\n",
              " 'pago',\n",
              " 'factura',\n",
              " 'desear',\n",
              " 'validar',\n",
              " 'llego',\n",
              " 'ahora',\n",
              " 'pagar']"
            ]
          },
          "execution_count": 7,
          "metadata": {},
          "output_type": "execute_result"
        }
      ],
      "source": [
        "clean_descripcion[100]"
      ]
    },
    {
      "cell_type": "code",
      "execution_count": null,
      "metadata": {},
      "outputs": [],
      "source": [
        "import pickle\n",
        "\n",
        "\n",
        "\n",
        "# Specify the file path where you want to save the list\n",
        "file_path = \"/content/PRIORIZAR/data/entrenamiento_binario.pkl\"\n",
        "\n",
        "# Open the file in binary write mode\n",
        "with open(file_path, \"wb\") as file:\n",
        "    # Use the pickle.dump() function to save the list to the file\n",
        "    pickle.dump(clean_descripcion, file)"
      ]
    },
    {
      "cell_type": "code",
      "execution_count": null,
      "metadata": {},
      "outputs": [],
      "source": [
        "import pickle\n",
        "\n",
        "# Specify the file path from where you want to load the list\n",
        "file_path = \"/content/PRIORIZAR/entranamiento_/entrenamiento_binario_final.pkl\"\n",
        "\n",
        "# Open the file in binary read mode\n",
        "with open(file_path, \"rb\") as file:\n",
        "    # Use the pickle.load() function to load the list from the file\n",
        "    loaded_list = pickle.load(file)\n",
        "\n",
        "print(loaded_list)"
      ]
    },
    {
      "cell_type": "code",
      "execution_count": null,
      "metadata": {},
      "outputs": [],
      "source": [
        "\n",
        "clean_descripcion=loaded_list"
      ]
    },
    {
      "cell_type": "code",
      "execution_count": 8,
      "metadata": {},
      "outputs": [
        {
          "data": {
            "text/plain": [
              "15525"
            ]
          },
          "execution_count": 8,
          "metadata": {},
          "output_type": "execute_result"
        }
      ],
      "source": [
        "len(clean_descripcion)"
      ]
    },
    {
      "cell_type": "code",
      "execution_count": 11,
      "metadata": {},
      "outputs": [
        {
          "data": {
            "text/plain": [
              "['llamar', 'promocion', 'plan', 'factura']"
            ]
          },
          "execution_count": 11,
          "metadata": {},
          "output_type": "execute_result"
        }
      ],
      "source": [
        "clean_descripcion[5675]"
      ]
    },
    {
      "cell_type": "markdown",
      "metadata": {},
      "source": [
        "creacion tabla"
      ]
    },
    {
      "cell_type": "code",
      "execution_count": null,
      "metadata": {
        "id": "pow0vAOrTlgk"
      },
      "outputs": [],
      "source": [
        "import numpy as np\n",
        "import pandas as pd\n",
        "from unidecode import unidecode\n",
        "\n",
        "\n",
        "\n",
        "merged_data=[]\n",
        "for i in range(len(clean_descripcion)):\n",
        "    merged_data.append(\" \".join(clean_descripcion[i]))\n",
        "\n",
        "merged_df=pd.DataFrame(merged_data,columns =['descripcion']).reset_index()\n",
        "\n",
        "#############################################\n",
        "\n",
        "pandas_c_F.reset_index(inplace=True)\n",
        "\n",
        "#merged_df = pd.merge(merged_df, pandas_c_F, on='index', how='inner').loc[:, ['FECHA_CREACION','NUMERO_PQR','descripcion', 'clasificacion']]\n",
        "\n",
        "merged_df = pd.concat([merged_df, pandas_c_F], axis=1)\n",
        "\n",
        "\n",
        "\n",
        "shuffled_df = merged_df.sample(frac=1).reset_index(drop=True)\n",
        "\n",
        "\n",
        "\n",
        "\n",
        "#shuffled_df.rename(columns={\"FECHA_CREACION\": \"event_timestamp\"}, inplace=True)\n",
        "\n",
        "#string_values = ['abcde', 'fghij', 'klmno', 'pqrst', 'uvwxy', 'zabcd', 'efghi', 'jklmn', 'opqrs', 'tuvwx']\n",
        "\n",
        "\n",
        "\n",
        "# Función para eliminar las tildes de un texto\n",
        "def remove_accents(text):\n",
        "    return unidecode(text)\n",
        "\n",
        "# Aplicar la función a la columna 'Texto'\n",
        "shuffled_df['descripcion'] = shuffled_df['descripcion'].apply(remove_accents)\n",
        "\n",
        "\n",
        "\n",
        "# Randomly select string values to fill the DataFrame\n",
        "#random_strings = np.random.choice(string_values, size=len(shuffled_df))\n",
        "\n",
        "#shuffled_df[\"NUMERO_PQR\"]=random_strings\n",
        "\n",
        "\n",
        "shuffled_df"
      ]
    },
    {
      "cell_type": "code",
      "execution_count": 33,
      "metadata": {},
      "outputs": [
        {
          "data": {
            "text/html": [
              "\n",
              "  <div id=\"df-e035ff40-86ee-4836-99c2-b248a54fb1ba\">\n",
              "    <div class=\"colab-df-container\">\n",
              "      <div>\n",
              "<style scoped>\n",
              "    .dataframe tbody tr th:only-of-type {\n",
              "        vertical-align: middle;\n",
              "    }\n",
              "\n",
              "    .dataframe tbody tr th {\n",
              "        vertical-align: top;\n",
              "    }\n",
              "\n",
              "    .dataframe thead th {\n",
              "        text-align: right;\n",
              "    }\n",
              "</style>\n",
              "<table border=\"1\" class=\"dataframe\">\n",
              "  <thead>\n",
              "    <tr style=\"text-align: right;\">\n",
              "      <th></th>\n",
              "      <th>index</th>\n",
              "      <th>descripcion</th>\n",
              "      <th>level_0</th>\n",
              "      <th>index</th>\n",
              "      <th>FECHA_CREACION</th>\n",
              "      <th>NUMERO_PQR</th>\n",
              "      <th>DESCRIPCION_PQR</th>\n",
              "      <th>clasificacion</th>\n",
              "    </tr>\n",
              "  </thead>\n",
              "  <tbody>\n",
              "    <tr>\n",
              "      <th>0</th>\n",
              "      <td>777</td>\n",
              "      <td>concepto facturar</td>\n",
              "      <td>777</td>\n",
              "      <td>777</td>\n",
              "      <td>12/12/22 9:54</td>\n",
              "      <td>MDM-PQR-35630165</td>\n",
              "      <td>NOMBRE: HILDEBRANDO MARTINEZ ROJAS   CC: 40554...</td>\n",
              "      <td>1.0</td>\n",
              "    </tr>\n",
              "    <tr>\n",
              "      <th>1</th>\n",
              "      <td>12104</td>\n",
              "      <td>facturacion</td>\n",
              "      <td>12104</td>\n",
              "      <td>12104</td>\n",
              "      <td>19/01/23 13:13</td>\n",
              "      <td>MDM-PQR-36420239</td>\n",
              "      <td>Línea:6012182752  Nombre de quien se comunica:...</td>\n",
              "      <td>0.0</td>\n",
              "    </tr>\n",
              "    <tr>\n",
              "      <th>2</th>\n",
              "      <td>148</td>\n",
              "      <td>sabria dannasanabriagmailcom solicitar factura...</td>\n",
              "      <td>148</td>\n",
              "      <td>148</td>\n",
              "      <td>2/12/22 11:07</td>\n",
              "      <td>MDM-PQR-35458749</td>\n",
              "      <td>DANNA STEFANIA SANABRIA RINCON   1000459282 31...</td>\n",
              "      <td>1.0</td>\n",
              "    </tr>\n",
              "    <tr>\n",
              "      <th>3</th>\n",
              "      <td>7187</td>\n",
              "      <td>suave facturacion acerca solicitar aumento fac...</td>\n",
              "      <td>7187</td>\n",
              "      <td>7187</td>\n",
              "      <td>16/02/23 9:23</td>\n",
              "      <td>MDM-PQR-37122403</td>\n",
              "      <td>6016452449 JOSE JOAQUÍN MARTÍNEZ SUÁREZ   CC 2...</td>\n",
              "      <td>1.0</td>\n",
              "    </tr>\n",
              "    <tr>\n",
              "      <th>4</th>\n",
              "      <td>10515</td>\n",
              "      <td>generar aumento factura</td>\n",
              "      <td>10515</td>\n",
              "      <td>10515</td>\n",
              "      <td>30/12/22 16:58</td>\n",
              "      <td>MDM-PQR-35992356</td>\n",
              "      <td>Línea: SR-29338498  Nombre: JULIAN DAVID AREVA...</td>\n",
              "      <td>0.0</td>\n",
              "    </tr>\n",
              "    <tr>\n",
              "      <th>...</th>\n",
              "      <td>...</td>\n",
              "      <td>...</td>\n",
              "      <td>...</td>\n",
              "      <td>...</td>\n",
              "      <td>...</td>\n",
              "      <td>...</td>\n",
              "      <td>...</td>\n",
              "      <td>...</td>\n",
              "    </tr>\n",
              "    <tr>\n",
              "      <th>15520</th>\n",
              "      <td>10260</td>\n",
              "      <td>validar compensar falla masivo facturacion</td>\n",
              "      <td>10260</td>\n",
              "      <td>10260</td>\n",
              "      <td>27/12/22 22:27</td>\n",
              "      <td>MDM-PQR-35924209</td>\n",
              "      <td>se comunica para valiadr como es la compensaio...</td>\n",
              "      <td>0.0</td>\n",
              "    </tr>\n",
              "    <tr>\n",
              "      <th>15521</th>\n",
              "      <td>6484</td>\n",
              "      <td>solicitar validar concepto facturar</td>\n",
              "      <td>6484</td>\n",
              "      <td>6484</td>\n",
              "      <td>8/02/23 15:55</td>\n",
              "      <td>MDM-PQR-36957742</td>\n",
              "      <td>6013579780//SONIA EUGENIA CORTES//52158204// c...</td>\n",
              "      <td>1.0</td>\n",
              "    </tr>\n",
              "    <tr>\n",
              "      <th>15522</th>\n",
              "      <td>13598</td>\n",
              "      <td>manifestar retirar winsport quitar directv aun...</td>\n",
              "      <td>13598</td>\n",
              "      <td>13598</td>\n",
              "      <td>30/01/23 13:25</td>\n",
              "      <td>MDM-PQR-36695478</td>\n",
              "      <td>Línea:  6017913909 12054568653 Nombre de quien...</td>\n",
              "      <td>0.0</td>\n",
              "    </tr>\n",
              "    <tr>\n",
              "      <th>15523</th>\n",
              "      <td>1232</td>\n",
              "      <td>validacion factura nunca llegar acordado</td>\n",
              "      <td>1232</td>\n",
              "      <td>1232</td>\n",
              "      <td>19/12/22 11:16</td>\n",
              "      <td>MDM-PQR-35760641</td>\n",
              "      <td>Línea:6012562478  Nombre:LILIANA VILLAMIL JIME...</td>\n",
              "      <td>1.0</td>\n",
              "    </tr>\n",
              "    <tr>\n",
              "      <th>15524</th>\n",
              "      <td>9317</td>\n",
              "      <td>suspender</td>\n",
              "      <td>9317</td>\n",
              "      <td>9317</td>\n",
              "      <td>13/12/22 15:18</td>\n",
              "      <td>MDM-PQR-35665597</td>\n",
              "      <td>Línea: 6012699628   Nombre del cliente:JUAN MA...</td>\n",
              "      <td>0.0</td>\n",
              "    </tr>\n",
              "  </tbody>\n",
              "</table>\n",
              "<p>15525 rows × 8 columns</p>\n",
              "</div>\n",
              "      <button class=\"colab-df-convert\" onclick=\"convertToInteractive('df-e035ff40-86ee-4836-99c2-b248a54fb1ba')\"\n",
              "              title=\"Convert this dataframe to an interactive table.\"\n",
              "              style=\"display:none;\">\n",
              "        \n",
              "  <svg xmlns=\"http://www.w3.org/2000/svg\" height=\"24px\"viewBox=\"0 0 24 24\"\n",
              "       width=\"24px\">\n",
              "    <path d=\"M0 0h24v24H0V0z\" fill=\"none\"/>\n",
              "    <path d=\"M18.56 5.44l.94 2.06.94-2.06 2.06-.94-2.06-.94-.94-2.06-.94 2.06-2.06.94zm-11 1L8.5 8.5l.94-2.06 2.06-.94-2.06-.94L8.5 2.5l-.94 2.06-2.06.94zm10 10l.94 2.06.94-2.06 2.06-.94-2.06-.94-.94-2.06-.94 2.06-2.06.94z\"/><path d=\"M17.41 7.96l-1.37-1.37c-.4-.4-.92-.59-1.43-.59-.52 0-1.04.2-1.43.59L10.3 9.45l-7.72 7.72c-.78.78-.78 2.05 0 2.83L4 21.41c.39.39.9.59 1.41.59.51 0 1.02-.2 1.41-.59l7.78-7.78 2.81-2.81c.8-.78.8-2.07 0-2.86zM5.41 20L4 18.59l7.72-7.72 1.47 1.35L5.41 20z\"/>\n",
              "  </svg>\n",
              "      </button>\n",
              "      \n",
              "  <style>\n",
              "    .colab-df-container {\n",
              "      display:flex;\n",
              "      flex-wrap:wrap;\n",
              "      gap: 12px;\n",
              "    }\n",
              "\n",
              "    .colab-df-convert {\n",
              "      background-color: #E8F0FE;\n",
              "      border: none;\n",
              "      border-radius: 50%;\n",
              "      cursor: pointer;\n",
              "      display: none;\n",
              "      fill: #1967D2;\n",
              "      height: 32px;\n",
              "      padding: 0 0 0 0;\n",
              "      width: 32px;\n",
              "    }\n",
              "\n",
              "    .colab-df-convert:hover {\n",
              "      background-color: #E2EBFA;\n",
              "      box-shadow: 0px 1px 2px rgba(60, 64, 67, 0.3), 0px 1px 3px 1px rgba(60, 64, 67, 0.15);\n",
              "      fill: #174EA6;\n",
              "    }\n",
              "\n",
              "    [theme=dark] .colab-df-convert {\n",
              "      background-color: #3B4455;\n",
              "      fill: #D2E3FC;\n",
              "    }\n",
              "\n",
              "    [theme=dark] .colab-df-convert:hover {\n",
              "      background-color: #434B5C;\n",
              "      box-shadow: 0px 1px 3px 1px rgba(0, 0, 0, 0.15);\n",
              "      filter: drop-shadow(0px 1px 2px rgba(0, 0, 0, 0.3));\n",
              "      fill: #FFFFFF;\n",
              "    }\n",
              "  </style>\n",
              "\n",
              "      <script>\n",
              "        const buttonEl =\n",
              "          document.querySelector('#df-e035ff40-86ee-4836-99c2-b248a54fb1ba button.colab-df-convert');\n",
              "        buttonEl.style.display =\n",
              "          google.colab.kernel.accessAllowed ? 'block' : 'none';\n",
              "\n",
              "        async function convertToInteractive(key) {\n",
              "          const element = document.querySelector('#df-e035ff40-86ee-4836-99c2-b248a54fb1ba');\n",
              "          const dataTable =\n",
              "            await google.colab.kernel.invokeFunction('convertToInteractive',\n",
              "                                                     [key], {});\n",
              "          if (!dataTable) return;\n",
              "\n",
              "          const docLinkHtml = 'Like what you see? Visit the ' +\n",
              "            '<a target=\"_blank\" href=https://colab.research.google.com/notebooks/data_table.ipynb>data table notebook</a>'\n",
              "            + ' to learn more about interactive tables.';\n",
              "          element.innerHTML = '';\n",
              "          dataTable['output_type'] = 'display_data';\n",
              "          await google.colab.output.renderOutput(dataTable, element);\n",
              "          const docLink = document.createElement('div');\n",
              "          docLink.innerHTML = docLinkHtml;\n",
              "          element.appendChild(docLink);\n",
              "        }\n",
              "      </script>\n",
              "    </div>\n",
              "  </div>\n",
              "  "
            ],
            "text/plain": [
              "       index                                        descripcion  level_0  \\\n",
              "0        777                                  concepto facturar      777   \n",
              "1      12104                                        facturacion    12104   \n",
              "2        148  sabria dannasanabriagmailcom solicitar factura...      148   \n",
              "3       7187  suave facturacion acerca solicitar aumento fac...     7187   \n",
              "4      10515                            generar aumento factura    10515   \n",
              "...      ...                                                ...      ...   \n",
              "15520  10260         validar compensar falla masivo facturacion    10260   \n",
              "15521   6484                solicitar validar concepto facturar     6484   \n",
              "15522  13598  manifestar retirar winsport quitar directv aun...    13598   \n",
              "15523   1232           validacion factura nunca llegar acordado     1232   \n",
              "15524   9317                                          suspender     9317   \n",
              "\n",
              "       index  FECHA_CREACION        NUMERO_PQR  \\\n",
              "0        777   12/12/22 9:54  MDM-PQR-35630165   \n",
              "1      12104  19/01/23 13:13  MDM-PQR-36420239   \n",
              "2        148   2/12/22 11:07  MDM-PQR-35458749   \n",
              "3       7187   16/02/23 9:23  MDM-PQR-37122403   \n",
              "4      10515  30/12/22 16:58  MDM-PQR-35992356   \n",
              "...      ...             ...               ...   \n",
              "15520  10260  27/12/22 22:27  MDM-PQR-35924209   \n",
              "15521   6484   8/02/23 15:55  MDM-PQR-36957742   \n",
              "15522  13598  30/01/23 13:25  MDM-PQR-36695478   \n",
              "15523   1232  19/12/22 11:16  MDM-PQR-35760641   \n",
              "15524   9317  13/12/22 15:18  MDM-PQR-35665597   \n",
              "\n",
              "                                         DESCRIPCION_PQR clasificacion  \n",
              "0      NOMBRE: HILDEBRANDO MARTINEZ ROJAS   CC: 40554...           1.0  \n",
              "1      Línea:6012182752  Nombre de quien se comunica:...           0.0  \n",
              "2      DANNA STEFANIA SANABRIA RINCON   1000459282 31...           1.0  \n",
              "3      6016452449 JOSE JOAQUÍN MARTÍNEZ SUÁREZ   CC 2...           1.0  \n",
              "4      Línea: SR-29338498  Nombre: JULIAN DAVID AREVA...           0.0  \n",
              "...                                                  ...           ...  \n",
              "15520  se comunica para valiadr como es la compensaio...           0.0  \n",
              "15521  6013579780//SONIA EUGENIA CORTES//52158204// c...           1.0  \n",
              "15522  Línea:  6017913909 12054568653 Nombre de quien...           0.0  \n",
              "15523  Línea:6012562478  Nombre:LILIANA VILLAMIL JIME...           1.0  \n",
              "15524  Línea: 6012699628   Nombre del cliente:JUAN MA...           0.0  \n",
              "\n",
              "[15525 rows x 8 columns]"
            ]
          },
          "execution_count": 33,
          "metadata": {},
          "output_type": "execute_result"
        }
      ],
      "source": [
        "shuffled_df.to_csv('/content/PRIORIZAR/entranamiento_/entrana_bina.csv', index=False)\n",
        "\n",
        "shuffled_df= shuffled_df.fillna(0)\n",
        "\n",
        "shuffled_df"
      ]
    },
    {
      "cell_type": "code",
      "execution_count": 35,
      "metadata": {},
      "outputs": [],
      "source": [
        "shuffled_df = pd.read_csv('/content/PRIORIZAR/entranamiento_/entrana_bina.csv',delimiter=';')"
      ]
    },
    {
      "cell_type": "code",
      "execution_count": 37,
      "metadata": {},
      "outputs": [],
      "source": [
        "from tfidf import TFIDF"
      ]
    },
    {
      "cell_type": "code",
      "execution_count": 38,
      "metadata": {},
      "outputs": [
        {
          "name": "stdout",
          "output_type": "stream",
          "text": [
            "tf-idf with 3833 features\n",
            "train with old features:  (12420, 3833)\n",
            "train with new features: (12420, 784)\n",
            "test with old features:  (3105, 3833)\n",
            "test with new features: (3105, 784)\n",
            "Training Data : (12420, 3833)\n",
            "Testing Data :  (3105, 3833)\n"
          ]
        },
        {
          "data": {
            "text/plain": [
              "['/content/PRIORIZAR/modelo/pca_binario.joblib']"
            ]
          },
          "execution_count": 38,
          "metadata": {},
          "output_type": "execute_result"
        }
      ],
      "source": [
        "from sklearn.feature_extraction.text import TfidfVectorizer\n",
        "import numpy as np\n",
        "from sklearn.decomposition import PCA\n",
        "from sklearn.model_selection import train_test_split\n",
        "\n",
        "from joblib import dump\n",
        "\n",
        "\n",
        "\n",
        "X = shuffled_df['descripcion']\n",
        "\n",
        "y = shuffled_df['clasificacion']\n",
        "\n",
        "\n",
        "\n",
        "\n",
        "# train test split (66% train - 33% test)\n",
        "\n",
        "\n",
        "X_train, X_test, y_train, y_test = train_test_split(X, y, test_size=0.20, random_state=123)\n",
        "\n",
        "\n",
        "\n",
        "\n",
        "X_train,X_test = TFIDF(X_train,X_test)\n",
        "\n",
        "pca = PCA()\n",
        "\n",
        "pca.fit(X_train)\n",
        "\n",
        "# Get the explained variance ratio for each component\n",
        "explained_variance_ratio = pca.explained_variance_ratio_\n",
        "\n",
        "# Calculate the cumulative explained variance ratio\n",
        "cumulative_variance_ratio = np.cumsum(explained_variance_ratio)\n",
        "\n",
        "# Find the number of components that explain a desired amount of variance\n",
        "desired_variance = 0.9  # Set the desired variance threshold\n",
        "n_components = np.argmax(cumulative_variance_ratio >= desired_variance) + 1\n",
        "\n",
        "# Create a new instance of PCA with the optimal number of components\n",
        "pca = PCA(n_components=n_components)\n",
        "\n",
        "\n",
        "X_train_new = pca.fit_transform(X_train)\n",
        "X_test_new = pca.transform(X_test)\n",
        "\n",
        "\n",
        "\n",
        "print(\"train with old features: \",np.array(X_train).shape)\n",
        "print(\"train with new features:\" ,np.array(X_train_new).shape)\n",
        "\n",
        "print(\"test with old features: \",np.array(X_test).shape)\n",
        "print(\"test with new features:\" ,np.array(X_test_new).shape)\n",
        "\n",
        "\n",
        "\n",
        "print('Training Data :', X_train.shape)\n",
        "\n",
        "print('Testing Data : ', X_test.shape)\n",
        "\n",
        "\n",
        "dump(value=pca, filename=\"/content/PRIORIZAR/modelo/pca_binario.joblib\")"
      ]
    },
    {
      "cell_type": "code",
      "execution_count": 39,
      "metadata": {},
      "outputs": [
        {
          "data": {
            "text/plain": [
              "784"
            ]
          },
          "execution_count": 39,
          "metadata": {},
          "output_type": "execute_result"
        }
      ],
      "source": [
        "n_components"
      ]
    },
    {
      "cell_type": "code",
      "execution_count": null,
      "metadata": {},
      "outputs": [],
      "source": [
        "pip install optuna"
      ]
    },
    {
      "cell_type": "code",
      "execution_count": 40,
      "metadata": {},
      "outputs": [],
      "source": [
        "import optuna\n",
        "from optuna.samplers import TPESampler\n",
        "\n",
        "import pandas as pd\n",
        "import numpy as np\n",
        "\n",
        "from sklearn.model_selection import train_test_split\n",
        "import lightgbm as lgb\n",
        "from sklearn.metrics import accuracy_score\n"
      ]
    },
    {
      "cell_type": "code",
      "execution_count": 41,
      "metadata": {},
      "outputs": [],
      "source": [
        "def objective(trial):\n",
        "    \"\"\"\n",
        "    Objective function to be minimized.\n",
        "    \"\"\"\n",
        "    param = {\n",
        "        'objective': 'binary',\n",
        "        'metric': 'binary_logloss',\n",
        "        \"verbosity\": -1,\n",
        "        \"boosting_type\": \"gbdt\",\n",
        "        \"n_estimators\": trial.suggest_int(\"n_estimators\", 100, 300),\n",
        "        \"lambda_l1\": trial.suggest_float(\"lambda_l1\", 1e-2, 5.0, log=True),\n",
        "        \"lambda_l2\": trial.suggest_float(\"lambda_l2\", 1e-2, 5.0, log=True),\n",
        "        \"num_leaves\": trial.suggest_int(\"num_leaves\", 60, 190),\n",
        "        \"feature_fraction\": trial.suggest_float(\"feature_fraction\", 0.4, 1.0),\n",
        "        \"bagging_fraction\": trial.suggest_float(\"bagging_fraction\", 0.4, 1.0),\n",
        "        \"bagging_freq\": trial.suggest_int(\"bagging_freq\", 1, 7),\n",
        "        'learning_rate': trial.suggest_float(\"learning_rate\", 0.04, 0.1),\n",
        "        \"min_child_samples\": trial.suggest_int(\"min_child_samples\", 5, 100),\n",
        "    }\n",
        "\n",
        "\n",
        "\n",
        "\n",
        "    gbm = lgb.LGBMClassifier(**param)\n",
        "    gbm.fit(X_train_new, y_train)\n",
        "    preds = gbm.predict(X_test_new)\n",
        "    accuracy = accuracy_score(y_test, preds)\n",
        "    return accuracy\n",
        "\n",
        "\n"
      ]
    },
    {
      "cell_type": "code",
      "execution_count": 42,
      "metadata": {},
      "outputs": [
        {
          "name": "stderr",
          "output_type": "stream",
          "text": [
            "[I 2023-07-06 20:32:07,010] A new study created in memory with name: lightgbm\n"
          ]
        },
        {
          "name": "stdout",
          "output_type": "stream",
          "text": [
            "[LightGBM] [Warning] bagging_fraction is set=0.4554031568612787, subsample=1.0 will be ignored. Current value: bagging_fraction=0.4554031568612787\n",
            "[LightGBM] [Warning] lambda_l2 is set=0.010007110473405195, reg_lambda=0.0 will be ignored. Current value: lambda_l2=0.010007110473405195\n",
            "[LightGBM] [Warning] lambda_l1 is set=0.879294185249291, reg_alpha=0.0 will be ignored. Current value: lambda_l1=0.879294185249291\n",
            "[LightGBM] [Warning] bagging_freq is set=2, subsample_freq=0 will be ignored. Current value: bagging_freq=2\n",
            "[LightGBM] [Warning] feature_fraction is set=0.48805353449026784, colsample_bytree=1.0 will be ignored. Current value: feature_fraction=0.48805353449026784\n"
          ]
        },
        {
          "name": "stderr",
          "output_type": "stream",
          "text": [
            "[I 2023-07-06 20:32:17,116] Trial 0 finished with value: 0.7919484702093398 and parameters: {'n_estimators': 95, 'lambda_l1': 0.879294185249291, 'lambda_l2': 0.010007110473405195, 'num_leaves': 48, 'feature_fraction': 0.48805353449026784, 'bagging_fraction': 0.4554031568612787, 'bagging_freq': 2, 'learning_rate': 0.060733643622582864, 'min_child_samples': 43}. Best is trial 0 with value: 0.7919484702093398.\n"
          ]
        },
        {
          "name": "stdout",
          "output_type": "stream",
          "text": [
            "[LightGBM] [Warning] bagging_fraction is set=0.4164325559187557, subsample=1.0 will be ignored. Current value: bagging_fraction=0.4164325559187557\n",
            "[LightGBM] [Warning] lambda_l2 is set=0.7069470359901728, reg_lambda=0.0 will be ignored. Current value: lambda_l2=0.7069470359901728\n",
            "[LightGBM] [Warning] lambda_l1 is set=0.1353297938831623, reg_alpha=0.0 will be ignored. Current value: lambda_l1=0.1353297938831623\n",
            "[LightGBM] [Warning] bagging_freq is set=5, subsample_freq=0 will be ignored. Current value: bagging_freq=5\n",
            "[LightGBM] [Warning] feature_fraction is set=0.9268704618345672, colsample_bytree=1.0 will be ignored. Current value: feature_fraction=0.9268704618345672\n"
          ]
        },
        {
          "name": "stderr",
          "output_type": "stream",
          "text": [
            "[I 2023-07-06 20:32:34,233] Trial 1 finished with value: 0.7916264090177134 and parameters: {'n_estimators': 117, 'lambda_l1': 0.1353297938831623, 'lambda_l2': 0.7069470359901728, 'num_leaves': 42, 'feature_fraction': 0.9268704618345672, 'bagging_fraction': 0.4164325559187557, 'bagging_freq': 5, 'learning_rate': 0.06503828814202763, 'min_child_samples': 58}. Best is trial 0 with value: 0.7919484702093398.\n"
          ]
        },
        {
          "name": "stdout",
          "output_type": "stream",
          "text": [
            "[LightGBM] [Warning] bagging_fraction is set=0.8153935694015885, subsample=1.0 will be ignored. Current value: bagging_fraction=0.8153935694015885\n",
            "[LightGBM] [Warning] lambda_l2 is set=1.4493910392244416, reg_lambda=0.0 will be ignored. Current value: lambda_l2=1.4493910392244416\n",
            "[LightGBM] [Warning] lambda_l1 is set=0.034250741406204634, reg_alpha=0.0 will be ignored. Current value: lambda_l1=0.034250741406204634\n",
            "[LightGBM] [Warning] bagging_freq is set=7, subsample_freq=0 will be ignored. Current value: bagging_freq=7\n",
            "[LightGBM] [Warning] feature_fraction is set=0.5880545068955457, colsample_bytree=1.0 will be ignored. Current value: feature_fraction=0.5880545068955457\n"
          ]
        },
        {
          "name": "stderr",
          "output_type": "stream",
          "text": [
            "[I 2023-07-06 20:32:48,734] Trial 2 finished with value: 0.7877616747181965 and parameters: {'n_estimators': 45, 'lambda_l1': 0.034250741406204634, 'lambda_l2': 1.4493910392244416, 'num_leaves': 89, 'feature_fraction': 0.5880545068955457, 'bagging_fraction': 0.8153935694015885, 'bagging_freq': 7, 'learning_rate': 0.09367639981023085, 'min_child_samples': 13}. Best is trial 0 with value: 0.7919484702093398.\n"
          ]
        },
        {
          "name": "stdout",
          "output_type": "stream",
          "text": [
            "[LightGBM] [Warning] bagging_fraction is set=0.9747337180903012, subsample=1.0 will be ignored. Current value: bagging_fraction=0.9747337180903012\n",
            "[LightGBM] [Warning] lambda_l2 is set=2.3446621696223424, reg_lambda=0.0 will be ignored. Current value: lambda_l2=2.3446621696223424\n",
            "[LightGBM] [Warning] lambda_l1 is set=0.02873208934418634, reg_alpha=0.0 will be ignored. Current value: lambda_l1=0.02873208934418634\n",
            "[LightGBM] [Warning] bagging_freq is set=4, subsample_freq=0 will be ignored. Current value: bagging_freq=4\n",
            "[LightGBM] [Warning] feature_fraction is set=0.6526645750030313, colsample_bytree=1.0 will be ignored. Current value: feature_fraction=0.6526645750030313\n"
          ]
        },
        {
          "name": "stderr",
          "output_type": "stream",
          "text": [
            "[I 2023-07-06 20:32:53,312] Trial 3 finished with value: 0.789049919484702 and parameters: {'n_estimators': 27, 'lambda_l1': 0.02873208934418634, 'lambda_l2': 2.3446621696223424, 'num_leaves': 35, 'feature_fraction': 0.6526645750030313, 'bagging_fraction': 0.9747337180903012, 'bagging_freq': 4, 'learning_rate': 0.0815126268370284, 'min_child_samples': 35}. Best is trial 0 with value: 0.7919484702093398.\n"
          ]
        },
        {
          "name": "stdout",
          "output_type": "stream",
          "text": [
            "[LightGBM] [Warning] bagging_fraction is set=0.8488993926279036, subsample=1.0 will be ignored. Current value: bagging_fraction=0.8488993926279036\n",
            "[LightGBM] [Warning] lambda_l2 is set=0.011203649455690875, reg_lambda=0.0 will be ignored. Current value: lambda_l2=0.011203649455690875\n",
            "[LightGBM] [Warning] lambda_l1 is set=1.7890795571852476, reg_alpha=0.0 will be ignored. Current value: lambda_l1=1.7890795571852476\n",
            "[LightGBM] [Warning] bagging_freq is set=2, subsample_freq=0 will be ignored. Current value: bagging_freq=2\n",
            "[LightGBM] [Warning] feature_fraction is set=0.9933166533438968, colsample_bytree=1.0 will be ignored. Current value: feature_fraction=0.9933166533438968\n"
          ]
        },
        {
          "name": "stderr",
          "output_type": "stream",
          "text": [
            "[I 2023-07-06 20:33:31,318] Trial 4 finished with value: 0.7913043478260869 and parameters: {'n_estimators': 144, 'lambda_l1': 1.7890795571852476, 'lambda_l2': 0.011203649455690875, 'num_leaves': 75, 'feature_fraction': 0.9933166533438968, 'bagging_fraction': 0.8488993926279036, 'bagging_freq': 2, 'learning_rate': 0.08735675970708931, 'min_child_samples': 14}. Best is trial 0 with value: 0.7919484702093398.\n"
          ]
        },
        {
          "name": "stdout",
          "output_type": "stream",
          "text": [
            "[LightGBM] [Warning] bagging_fraction is set=0.41162017472217827, subsample=1.0 will be ignored. Current value: bagging_fraction=0.41162017472217827\n",
            "[LightGBM] [Warning] lambda_l2 is set=0.062009150154225985, reg_lambda=0.0 will be ignored. Current value: lambda_l2=0.062009150154225985\n",
            "[LightGBM] [Warning] lambda_l1 is set=2.8331659191517997, reg_alpha=0.0 will be ignored. Current value: lambda_l1=2.8331659191517997\n",
            "[LightGBM] [Warning] bagging_freq is set=5, subsample_freq=0 will be ignored. Current value: bagging_freq=5\n",
            "[LightGBM] [Warning] feature_fraction is set=0.4780171432709666, colsample_bytree=1.0 will be ignored. Current value: feature_fraction=0.4780171432709666\n"
          ]
        },
        {
          "name": "stderr",
          "output_type": "stream",
          "text": [
            "[I 2023-07-06 20:33:39,771] Trial 5 finished with value: 0.7871175523349436 and parameters: {'n_estimators': 101, 'lambda_l1': 2.8331659191517997, 'lambda_l2': 0.062009150154225985, 'num_leaves': 47, 'feature_fraction': 0.4780171432709666, 'bagging_fraction': 0.41162017472217827, 'bagging_freq': 5, 'learning_rate': 0.05269768696000354, 'min_child_samples': 30}. Best is trial 0 with value: 0.7919484702093398.\n"
          ]
        },
        {
          "name": "stdout",
          "output_type": "stream",
          "text": [
            "[LightGBM] [Warning] bagging_fraction is set=0.8198550160125587, subsample=1.0 will be ignored. Current value: bagging_fraction=0.8198550160125587\n",
            "[LightGBM] [Warning] lambda_l2 is set=0.35442650826863986, reg_lambda=0.0 will be ignored. Current value: lambda_l2=0.35442650826863986\n",
            "[LightGBM] [Warning] lambda_l1 is set=0.013932335006314283, reg_alpha=0.0 will be ignored. Current value: lambda_l1=0.013932335006314283\n",
            "[LightGBM] [Warning] bagging_freq is set=1, subsample_freq=0 will be ignored. Current value: bagging_freq=1\n",
            "[LightGBM] [Warning] feature_fraction is set=0.7535833221419705, colsample_bytree=1.0 will be ignored. Current value: feature_fraction=0.7535833221419705\n"
          ]
        },
        {
          "name": "stderr",
          "output_type": "stream",
          "text": [
            "[I 2023-07-06 20:33:53,861] Trial 6 finished with value: 0.7942028985507247 and parameters: {'n_estimators': 108, 'lambda_l1': 0.013932335006314283, 'lambda_l2': 0.35442650826863986, 'num_leaves': 38, 'feature_fraction': 0.7535833221419705, 'bagging_fraction': 0.8198550160125587, 'bagging_freq': 1, 'learning_rate': 0.0648433592691741, 'min_child_samples': 71}. Best is trial 6 with value: 0.7942028985507247.\n"
          ]
        },
        {
          "name": "stdout",
          "output_type": "stream",
          "text": [
            "[LightGBM] [Warning] bagging_fraction is set=0.966756853594488, subsample=1.0 will be ignored. Current value: bagging_fraction=0.966756853594488\n",
            "[LightGBM] [Warning] lambda_l2 is set=0.27949132012721856, reg_lambda=0.0 will be ignored. Current value: lambda_l2=0.27949132012721856\n",
            "[LightGBM] [Warning] lambda_l1 is set=0.01364026749788079, reg_alpha=0.0 will be ignored. Current value: lambda_l1=0.01364026749788079\n",
            "[LightGBM] [Warning] bagging_freq is set=5, subsample_freq=0 will be ignored. Current value: bagging_freq=5\n",
            "[LightGBM] [Warning] feature_fraction is set=0.7089334672349852, colsample_bytree=1.0 will be ignored. Current value: feature_fraction=0.7089334672349852\n"
          ]
        },
        {
          "name": "stderr",
          "output_type": "stream",
          "text": [
            "[I 2023-07-06 20:34:14,540] Trial 7 finished with value: 0.7913043478260869 and parameters: {'n_estimators': 94, 'lambda_l1': 0.01364026749788079, 'lambda_l2': 0.27949132012721856, 'num_leaves': 70, 'feature_fraction': 0.7089334672349852, 'bagging_fraction': 0.966756853594488, 'bagging_freq': 5, 'learning_rate': 0.09420411491727301, 'min_child_samples': 18}. Best is trial 6 with value: 0.7942028985507247.\n"
          ]
        },
        {
          "name": "stdout",
          "output_type": "stream",
          "text": [
            "[LightGBM] [Warning] bagging_fraction is set=0.6086595158473039, subsample=1.0 will be ignored. Current value: bagging_fraction=0.6086595158473039\n",
            "[LightGBM] [Warning] lambda_l2 is set=0.11839077252754517, reg_lambda=0.0 will be ignored. Current value: lambda_l2=0.11839077252754517\n",
            "[LightGBM] [Warning] lambda_l1 is set=1.510514400536787, reg_alpha=0.0 will be ignored. Current value: lambda_l1=1.510514400536787\n",
            "[LightGBM] [Warning] bagging_freq is set=6, subsample_freq=0 will be ignored. Current value: bagging_freq=6\n",
            "[LightGBM] [Warning] feature_fraction is set=0.9565051482376203, colsample_bytree=1.0 will be ignored. Current value: feature_fraction=0.9565051482376203\n"
          ]
        },
        {
          "name": "stderr",
          "output_type": "stream",
          "text": [
            "[I 2023-07-06 20:34:22,465] Trial 8 finished with value: 0.7893719806763285 and parameters: {'n_estimators': 45, 'lambda_l1': 1.510514400536787, 'lambda_l2': 0.11839077252754517, 'num_leaves': 40, 'feature_fraction': 0.9565051482376203, 'bagging_fraction': 0.6086595158473039, 'bagging_freq': 6, 'learning_rate': 0.0835598791210271, 'min_child_samples': 89}. Best is trial 6 with value: 0.7942028985507247.\n"
          ]
        },
        {
          "name": "stdout",
          "output_type": "stream",
          "text": [
            "[LightGBM] [Warning] bagging_fraction is set=0.656854713922777, subsample=1.0 will be ignored. Current value: bagging_fraction=0.656854713922777\n",
            "[LightGBM] [Warning] lambda_l2 is set=0.08743114371278075, reg_lambda=0.0 will be ignored. Current value: lambda_l2=0.08743114371278075\n",
            "[LightGBM] [Warning] lambda_l1 is set=1.0635823077784037, reg_alpha=0.0 will be ignored. Current value: lambda_l1=1.0635823077784037\n",
            "[LightGBM] [Warning] bagging_freq is set=7, subsample_freq=0 will be ignored. Current value: bagging_freq=7\n",
            "[LightGBM] [Warning] feature_fraction is set=0.9375317309176401, colsample_bytree=1.0 will be ignored. Current value: feature_fraction=0.9375317309176401\n"
          ]
        },
        {
          "name": "stderr",
          "output_type": "stream",
          "text": [
            "[I 2023-07-06 20:34:41,886] Trial 9 finished with value: 0.7832528180354267 and parameters: {'n_estimators': 132, 'lambda_l1': 1.0635823077784037, 'lambda_l2': 0.08743114371278075, 'num_leaves': 46, 'feature_fraction': 0.9375317309176401, 'bagging_fraction': 0.656854713922777, 'bagging_freq': 7, 'learning_rate': 0.07980648986910689, 'min_child_samples': 64}. Best is trial 6 with value: 0.7942028985507247.\n"
          ]
        },
        {
          "name": "stdout",
          "output_type": "stream",
          "text": [
            "[LightGBM] [Warning] bagging_fraction is set=0.7703756492982702, subsample=1.0 will be ignored. Current value: bagging_fraction=0.7703756492982702\n",
            "[LightGBM] [Warning] lambda_l2 is set=4.077848194578335, reg_lambda=0.0 will be ignored. Current value: lambda_l2=4.077848194578335\n",
            "[LightGBM] [Warning] lambda_l1 is set=0.12917970593385644, reg_alpha=0.0 will be ignored. Current value: lambda_l1=0.12917970593385644\n",
            "[LightGBM] [Warning] bagging_freq is set=1, subsample_freq=0 will be ignored. Current value: bagging_freq=1\n",
            "[LightGBM] [Warning] feature_fraction is set=0.77592993314995, colsample_bytree=1.0 will be ignored. Current value: feature_fraction=0.77592993314995\n"
          ]
        },
        {
          "name": "stderr",
          "output_type": "stream",
          "text": [
            "[I 2023-07-06 20:35:06,565] Trial 10 finished with value: 0.7938808373590982 and parameters: {'n_estimators': 196, 'lambda_l1': 0.12917970593385644, 'lambda_l2': 4.077848194578335, 'num_leaves': 62, 'feature_fraction': 0.77592993314995, 'bagging_fraction': 0.7703756492982702, 'bagging_freq': 1, 'learning_rate': 0.04169914523267015, 'min_child_samples': 85}. Best is trial 6 with value: 0.7942028985507247.\n"
          ]
        },
        {
          "name": "stdout",
          "output_type": "stream",
          "text": [
            "[LightGBM] [Warning] bagging_fraction is set=0.7732389119448694, subsample=1.0 will be ignored. Current value: bagging_fraction=0.7732389119448694\n",
            "[LightGBM] [Warning] lambda_l2 is set=3.7983757128475166, reg_lambda=0.0 will be ignored. Current value: lambda_l2=3.7983757128475166\n",
            "[LightGBM] [Warning] lambda_l1 is set=0.13346396119459825, reg_alpha=0.0 will be ignored. Current value: lambda_l1=0.13346396119459825\n",
            "[LightGBM] [Warning] bagging_freq is set=1, subsample_freq=0 will be ignored. Current value: bagging_freq=1\n",
            "[LightGBM] [Warning] feature_fraction is set=0.7667221315136591, colsample_bytree=1.0 will be ignored. Current value: feature_fraction=0.7667221315136591\n"
          ]
        },
        {
          "name": "stderr",
          "output_type": "stream",
          "text": [
            "[I 2023-07-06 20:35:32,892] Trial 11 finished with value: 0.7967793880837359 and parameters: {'n_estimators': 199, 'lambda_l1': 0.13346396119459825, 'lambda_l2': 3.7983757128475166, 'num_leaves': 59, 'feature_fraction': 0.7667221315136591, 'bagging_fraction': 0.7732389119448694, 'bagging_freq': 1, 'learning_rate': 0.04089514301599394, 'min_child_samples': 85}. Best is trial 11 with value: 0.7967793880837359.\n"
          ]
        },
        {
          "name": "stdout",
          "output_type": "stream",
          "text": [
            "[LightGBM] [Warning] bagging_fraction is set=0.7487452070745508, subsample=1.0 will be ignored. Current value: bagging_fraction=0.7487452070745508\n",
            "[LightGBM] [Warning] lambda_l2 is set=4.2105515010394745, reg_lambda=0.0 will be ignored. Current value: lambda_l2=4.2105515010394745\n",
            "[LightGBM] [Warning] lambda_l1 is set=0.010538661525506412, reg_alpha=0.0 will be ignored. Current value: lambda_l1=0.010538661525506412\n",
            "[LightGBM] [Warning] bagging_freq is set=1, subsample_freq=0 will be ignored. Current value: bagging_freq=1\n",
            "[LightGBM] [Warning] feature_fraction is set=0.7904508631838858, colsample_bytree=1.0 will be ignored. Current value: feature_fraction=0.7904508631838858\n"
          ]
        },
        {
          "name": "stderr",
          "output_type": "stream",
          "text": [
            "[I 2023-07-06 20:35:55,347] Trial 12 finished with value: 0.8003220611916264 and parameters: {'n_estimators': 200, 'lambda_l1': 0.010538661525506412, 'lambda_l2': 4.2105515010394745, 'num_leaves': 31, 'feature_fraction': 0.7904508631838858, 'bagging_fraction': 0.7487452070745508, 'bagging_freq': 1, 'learning_rate': 0.04002333100026529, 'min_child_samples': 74}. Best is trial 12 with value: 0.8003220611916264.\n"
          ]
        },
        {
          "name": "stdout",
          "output_type": "stream",
          "text": [
            "[LightGBM] [Warning] bagging_fraction is set=0.7093488358637895, subsample=1.0 will be ignored. Current value: bagging_fraction=0.7093488358637895\n",
            "[LightGBM] [Warning] lambda_l2 is set=4.531167418331183, reg_lambda=0.0 will be ignored. Current value: lambda_l2=4.531167418331183\n",
            "[LightGBM] [Warning] lambda_l1 is set=0.4405859884432702, reg_alpha=0.0 will be ignored. Current value: lambda_l1=0.4405859884432702\n",
            "[LightGBM] [Warning] bagging_freq is set=3, subsample_freq=0 will be ignored. Current value: bagging_freq=3\n",
            "[LightGBM] [Warning] feature_fraction is set=0.8367571385372549, colsample_bytree=1.0 will be ignored. Current value: feature_fraction=0.8367571385372549\n"
          ]
        },
        {
          "name": "stderr",
          "output_type": "stream",
          "text": [
            "[I 2023-07-06 20:36:15,087] Trial 13 finished with value: 0.7967793880837359 and parameters: {'n_estimators': 199, 'lambda_l1': 0.4405859884432702, 'lambda_l2': 4.531167418331183, 'num_leaves': 30, 'feature_fraction': 0.8367571385372549, 'bagging_fraction': 0.7093488358637895, 'bagging_freq': 3, 'learning_rate': 0.044588542362452493, 'min_child_samples': 99}. Best is trial 12 with value: 0.8003220611916264.\n"
          ]
        },
        {
          "name": "stdout",
          "output_type": "stream",
          "text": [
            "[LightGBM] [Warning] bagging_fraction is set=0.7354424469567837, subsample=1.0 will be ignored. Current value: bagging_fraction=0.7354424469567837\n",
            "[LightGBM] [Warning] lambda_l2 is set=1.503456284819381, reg_lambda=0.0 will be ignored. Current value: lambda_l2=1.503456284819381\n",
            "[LightGBM] [Warning] lambda_l1 is set=0.06567593926271595, reg_alpha=0.0 will be ignored. Current value: lambda_l1=0.06567593926271595\n",
            "[LightGBM] [Warning] bagging_freq is set=2, subsample_freq=0 will be ignored. Current value: bagging_freq=2\n",
            "[LightGBM] [Warning] feature_fraction is set=0.8345235542544048, colsample_bytree=1.0 will be ignored. Current value: feature_fraction=0.8345235542544048\n"
          ]
        },
        {
          "name": "stderr",
          "output_type": "stream",
          "text": [
            "[I 2023-07-06 20:36:40,097] Trial 14 finished with value: 0.7909822866344606 and parameters: {'n_estimators': 169, 'lambda_l1': 0.06567593926271595, 'lambda_l2': 1.503456284819381, 'num_leaves': 57, 'feature_fraction': 0.8345235542544048, 'bagging_fraction': 0.7354424469567837, 'bagging_freq': 2, 'learning_rate': 0.05014133045491844, 'min_child_samples': 74}. Best is trial 12 with value: 0.8003220611916264.\n"
          ]
        },
        {
          "name": "stdout",
          "output_type": "stream",
          "text": [
            "[LightGBM] [Warning] bagging_fraction is set=0.6070902422909487, subsample=1.0 will be ignored. Current value: bagging_fraction=0.6070902422909487\n",
            "[LightGBM] [Warning] lambda_l2 is set=4.061822255993822, reg_lambda=0.0 will be ignored. Current value: lambda_l2=4.061822255993822\n",
            "[LightGBM] [Warning] lambda_l1 is set=0.4465855488923207, reg_alpha=0.0 will be ignored. Current value: lambda_l1=0.4465855488923207\n",
            "[LightGBM] [Warning] bagging_freq is set=1, subsample_freq=0 will be ignored. Current value: bagging_freq=1\n",
            "[LightGBM] [Warning] feature_fraction is set=0.6500416603192535, colsample_bytree=1.0 will be ignored. Current value: feature_fraction=0.6500416603192535\n"
          ]
        },
        {
          "name": "stderr",
          "output_type": "stream",
          "text": [
            "[I 2023-07-06 20:36:56,665] Trial 15 finished with value: 0.798389694041868 and parameters: {'n_estimators': 171, 'lambda_l1': 0.4465855488923207, 'lambda_l2': 4.061822255993822, 'num_leaves': 89, 'feature_fraction': 0.6500416603192535, 'bagging_fraction': 0.6070902422909487, 'bagging_freq': 1, 'learning_rate': 0.041084413039405916, 'min_child_samples': 84}. Best is trial 12 with value: 0.8003220611916264.\n"
          ]
        },
        {
          "name": "stdout",
          "output_type": "stream",
          "text": [
            "[LightGBM] [Warning] bagging_fraction is set=0.5807903901540217, subsample=1.0 will be ignored. Current value: bagging_fraction=0.5807903901540217\n",
            "[LightGBM] [Warning] lambda_l2 is set=1.0125674878632045, reg_lambda=0.0 will be ignored. Current value: lambda_l2=1.0125674878632045\n",
            "[LightGBM] [Warning] lambda_l1 is set=0.3611766570534619, reg_alpha=0.0 will be ignored. Current value: lambda_l1=0.3611766570534619\n",
            "[LightGBM] [Warning] bagging_freq is set=3, subsample_freq=0 will be ignored. Current value: bagging_freq=3\n",
            "[LightGBM] [Warning] feature_fraction is set=0.6304968227241544, colsample_bytree=1.0 will be ignored. Current value: feature_fraction=0.6304968227241544\n"
          ]
        },
        {
          "name": "stderr",
          "output_type": "stream",
          "text": [
            "[I 2023-07-06 20:37:19,252] Trial 16 finished with value: 0.792914653784219 and parameters: {'n_estimators': 169, 'lambda_l1': 0.3611766570534619, 'lambda_l2': 1.0125674878632045, 'num_leaves': 76, 'feature_fraction': 0.6304968227241544, 'bagging_fraction': 0.5807903901540217, 'bagging_freq': 3, 'learning_rate': 0.0532936079358223, 'min_child_samples': 51}. Best is trial 12 with value: 0.8003220611916264.\n"
          ]
        },
        {
          "name": "stdout",
          "output_type": "stream",
          "text": [
            "[LightGBM] [Warning] bagging_fraction is set=0.5522268058119942, subsample=1.0 will be ignored. Current value: bagging_fraction=0.5522268058119942\n",
            "[LightGBM] [Warning] lambda_l2 is set=2.7129182650340886, reg_lambda=0.0 will be ignored. Current value: lambda_l2=2.7129182650340886\n",
            "[LightGBM] [Warning] lambda_l1 is set=4.208823363521199, reg_alpha=0.0 will be ignored. Current value: lambda_l1=4.208823363521199\n",
            "[LightGBM] [Warning] bagging_freq is set=3, subsample_freq=0 will be ignored. Current value: bagging_freq=3\n",
            "[LightGBM] [Warning] feature_fraction is set=0.5681857837622545, colsample_bytree=1.0 will be ignored. Current value: feature_fraction=0.5681857837622545\n"
          ]
        },
        {
          "name": "stderr",
          "output_type": "stream",
          "text": [
            "[I 2023-07-06 20:37:29,363] Trial 17 finished with value: 0.7938808373590982 and parameters: {'n_estimators': 168, 'lambda_l1': 4.208823363521199, 'lambda_l2': 2.7129182650340886, 'num_leaves': 88, 'feature_fraction': 0.5681857837622545, 'bagging_fraction': 0.5522268058119942, 'bagging_freq': 3, 'learning_rate': 0.04705291220874492, 'min_child_samples': 73}. Best is trial 12 with value: 0.8003220611916264.\n"
          ]
        },
        {
          "name": "stdout",
          "output_type": "stream",
          "text": [
            "[LightGBM] [Warning] bagging_fraction is set=0.6729756320321, subsample=1.0 will be ignored. Current value: bagging_fraction=0.6729756320321\n",
            "[LightGBM] [Warning] lambda_l2 is set=0.6320219749145862, reg_lambda=0.0 will be ignored. Current value: lambda_l2=0.6320219749145862\n",
            "[LightGBM] [Warning] lambda_l1 is set=0.3780711814912514, reg_alpha=0.0 will be ignored. Current value: lambda_l1=0.3780711814912514\n",
            "[LightGBM] [Warning] bagging_freq is set=1, subsample_freq=0 will be ignored. Current value: bagging_freq=1\n",
            "[LightGBM] [Warning] feature_fraction is set=0.6844806167350638, colsample_bytree=1.0 will be ignored. Current value: feature_fraction=0.6844806167350638\n"
          ]
        },
        {
          "name": "stderr",
          "output_type": "stream",
          "text": [
            "[I 2023-07-06 20:37:47,201] Trial 18 finished with value: 0.7903381642512077 and parameters: {'n_estimators': 154, 'lambda_l1': 0.3780711814912514, 'lambda_l2': 0.6320219749145862, 'num_leaves': 81, 'feature_fraction': 0.6844806167350638, 'bagging_fraction': 0.6729756320321, 'bagging_freq': 1, 'learning_rate': 0.05622573542141071, 'min_child_samples': 95}. Best is trial 12 with value: 0.8003220611916264.\n"
          ]
        },
        {
          "name": "stdout",
          "output_type": "stream",
          "text": [
            "[LightGBM] [Warning] bagging_fraction is set=0.5359007232429539, subsample=1.0 will be ignored. Current value: bagging_fraction=0.5359007232429539\n",
            "[LightGBM] [Warning] lambda_l2 is set=2.0862962817737, reg_lambda=0.0 will be ignored. Current value: lambda_l2=2.0862962817737\n",
            "[LightGBM] [Warning] lambda_l1 is set=0.010398231057343471, reg_alpha=0.0 will be ignored. Current value: lambda_l1=0.010398231057343471\n",
            "[LightGBM] [Warning] bagging_freq is set=2, subsample_freq=0 will be ignored. Current value: bagging_freq=2\n",
            "[LightGBM] [Warning] feature_fraction is set=0.40607903153949193, colsample_bytree=1.0 will be ignored. Current value: feature_fraction=0.40607903153949193\n"
          ]
        },
        {
          "name": "stderr",
          "output_type": "stream",
          "text": [
            "[I 2023-07-06 20:37:59,218] Trial 19 finished with value: 0.794524959742351 and parameters: {'n_estimators': 175, 'lambda_l1': 0.010398231057343471, 'lambda_l2': 2.0862962817737, 'num_leaves': 54, 'feature_fraction': 0.40607903153949193, 'bagging_fraction': 0.5359007232429539, 'bagging_freq': 2, 'learning_rate': 0.04732125031248334, 'min_child_samples': 78}. Best is trial 12 with value: 0.8003220611916264.\n"
          ]
        }
      ],
      "source": [
        "sampler = TPESampler(seed=1)\n",
        "study = optuna.create_study(study_name=\"lightgbm\", direction=\"maximize\", sampler=sampler)\n",
        "study.optimize(objective, n_trials=20)"
      ]
    },
    {
      "cell_type": "code",
      "execution_count": 43,
      "metadata": {},
      "outputs": [
        {
          "name": "stdout",
          "output_type": "stream",
          "text": [
            "Best parameters: {'n_estimators': 200, 'lambda_l1': 0.010538661525506412, 'lambda_l2': 4.2105515010394745, 'num_leaves': 31, 'feature_fraction': 0.7904508631838858, 'bagging_fraction': 0.7487452070745508, 'bagging_freq': 1, 'learning_rate': 0.04002333100026529, 'min_child_samples': 74}\n"
          ]
        }
      ],
      "source": [
        "print('Best parameters:', study.best_params)"
      ]
    },
    {
      "cell_type": "code",
      "execution_count": 44,
      "metadata": {},
      "outputs": [
        {
          "name": "stdout",
          "output_type": "stream",
          "text": [
            "[LightGBM] [Warning] lambda_l1 is set=0.010538661525506412, reg_alpha=0.0 will be ignored. Current value: lambda_l1=0.010538661525506412\n",
            "[LightGBM] [Warning] feature_fraction is set=0.7904508631838858, colsample_bytree=1.0 will be ignored. Current value: feature_fraction=0.7904508631838858\n",
            "[LightGBM] [Warning] bagging_freq is set=1, subsample_freq=0 will be ignored. Current value: bagging_freq=1\n",
            "[LightGBM] [Warning] lambda_l2 is set=4.2105515010394745, reg_lambda=0.0 will be ignored. Current value: lambda_l2=4.2105515010394745\n",
            "[LightGBM] [Warning] bagging_fraction is set=0.7487452070745508, subsample=1.0 will be ignored. Current value: bagging_fraction=0.7487452070745508\n"
          ]
        },
        {
          "data": {
            "text/html": [
              "<style>#sk-container-id-1 {color: black;background-color: white;}#sk-container-id-1 pre{padding: 0;}#sk-container-id-1 div.sk-toggleable {background-color: white;}#sk-container-id-1 label.sk-toggleable__label {cursor: pointer;display: block;width: 100%;margin-bottom: 0;padding: 0.3em;box-sizing: border-box;text-align: center;}#sk-container-id-1 label.sk-toggleable__label-arrow:before {content: \"▸\";float: left;margin-right: 0.25em;color: #696969;}#sk-container-id-1 label.sk-toggleable__label-arrow:hover:before {color: black;}#sk-container-id-1 div.sk-estimator:hover label.sk-toggleable__label-arrow:before {color: black;}#sk-container-id-1 div.sk-toggleable__content {max-height: 0;max-width: 0;overflow: hidden;text-align: left;background-color: #f0f8ff;}#sk-container-id-1 div.sk-toggleable__content pre {margin: 0.2em;color: black;border-radius: 0.25em;background-color: #f0f8ff;}#sk-container-id-1 input.sk-toggleable__control:checked~div.sk-toggleable__content {max-height: 200px;max-width: 100%;overflow: auto;}#sk-container-id-1 input.sk-toggleable__control:checked~label.sk-toggleable__label-arrow:before {content: \"▾\";}#sk-container-id-1 div.sk-estimator input.sk-toggleable__control:checked~label.sk-toggleable__label {background-color: #d4ebff;}#sk-container-id-1 div.sk-label input.sk-toggleable__control:checked~label.sk-toggleable__label {background-color: #d4ebff;}#sk-container-id-1 input.sk-hidden--visually {border: 0;clip: rect(1px 1px 1px 1px);clip: rect(1px, 1px, 1px, 1px);height: 1px;margin: -1px;overflow: hidden;padding: 0;position: absolute;width: 1px;}#sk-container-id-1 div.sk-estimator {font-family: monospace;background-color: #f0f8ff;border: 1px dotted black;border-radius: 0.25em;box-sizing: border-box;margin-bottom: 0.5em;}#sk-container-id-1 div.sk-estimator:hover {background-color: #d4ebff;}#sk-container-id-1 div.sk-parallel-item::after {content: \"\";width: 100%;border-bottom: 1px solid gray;flex-grow: 1;}#sk-container-id-1 div.sk-label:hover label.sk-toggleable__label {background-color: #d4ebff;}#sk-container-id-1 div.sk-serial::before {content: \"\";position: absolute;border-left: 1px solid gray;box-sizing: border-box;top: 0;bottom: 0;left: 50%;z-index: 0;}#sk-container-id-1 div.sk-serial {display: flex;flex-direction: column;align-items: center;background-color: white;padding-right: 0.2em;padding-left: 0.2em;position: relative;}#sk-container-id-1 div.sk-item {position: relative;z-index: 1;}#sk-container-id-1 div.sk-parallel {display: flex;align-items: stretch;justify-content: center;background-color: white;position: relative;}#sk-container-id-1 div.sk-item::before, #sk-container-id-1 div.sk-parallel-item::before {content: \"\";position: absolute;border-left: 1px solid gray;box-sizing: border-box;top: 0;bottom: 0;left: 50%;z-index: -1;}#sk-container-id-1 div.sk-parallel-item {display: flex;flex-direction: column;z-index: 1;position: relative;background-color: white;}#sk-container-id-1 div.sk-parallel-item:first-child::after {align-self: flex-end;width: 50%;}#sk-container-id-1 div.sk-parallel-item:last-child::after {align-self: flex-start;width: 50%;}#sk-container-id-1 div.sk-parallel-item:only-child::after {width: 0;}#sk-container-id-1 div.sk-dashed-wrapped {border: 1px dashed gray;margin: 0 0.4em 0.5em 0.4em;box-sizing: border-box;padding-bottom: 0.4em;background-color: white;}#sk-container-id-1 div.sk-label label {font-family: monospace;font-weight: bold;display: inline-block;line-height: 1.2em;}#sk-container-id-1 div.sk-label-container {text-align: center;}#sk-container-id-1 div.sk-container {/* jupyter's `normalize.less` sets `[hidden] { display: none; }` but bootstrap.min.css set `[hidden] { display: none !important; }` so we also need the `!important` here to be able to override the default hidden behavior on the sphinx rendered scikit-learn.org. See: https://github.com/scikit-learn/scikit-learn/issues/21755 */display: inline-block !important;position: relative;}#sk-container-id-1 div.sk-text-repr-fallback {display: none;}</style><div id=\"sk-container-id-1\" class=\"sk-top-container\"><div class=\"sk-text-repr-fallback\"><pre>LGBMClassifier(bagging_fraction=0.7487452070745508, bagging_freq=1,\n",
              "               feature_fraction=0.7904508631838858,\n",
              "               lambda_l1=0.010538661525506412, lambda_l2=4.2105515010394745,\n",
              "               learning_rate=0.04002333100026529, min_child_samples=74,\n",
              "               n_estimators=200)</pre><b>In a Jupyter environment, please rerun this cell to show the HTML representation or trust the notebook. <br />On GitHub, the HTML representation is unable to render, please try loading this page with nbviewer.org.</b></div><div class=\"sk-container\" hidden><div class=\"sk-item\"><div class=\"sk-estimator sk-toggleable\"><input class=\"sk-toggleable__control sk-hidden--visually\" id=\"sk-estimator-id-1\" type=\"checkbox\" checked><label for=\"sk-estimator-id-1\" class=\"sk-toggleable__label sk-toggleable__label-arrow\">LGBMClassifier</label><div class=\"sk-toggleable__content\"><pre>LGBMClassifier(bagging_fraction=0.7487452070745508, bagging_freq=1,\n",
              "               feature_fraction=0.7904508631838858,\n",
              "               lambda_l1=0.010538661525506412, lambda_l2=4.2105515010394745,\n",
              "               learning_rate=0.04002333100026529, min_child_samples=74,\n",
              "               n_estimators=200)</pre></div></div></div></div></div>"
            ],
            "text/plain": [
              "LGBMClassifier(bagging_fraction=0.7487452070745508, bagging_freq=1,\n",
              "               feature_fraction=0.7904508631838858,\n",
              "               lambda_l1=0.010538661525506412, lambda_l2=4.2105515010394745,\n",
              "               learning_rate=0.04002333100026529, min_child_samples=74,\n",
              "               n_estimators=200)"
            ]
          },
          "execution_count": 44,
          "metadata": {},
          "output_type": "execute_result"
        }
      ],
      "source": [
        "mode = lgb.LGBMClassifier(**study.best_params)\n",
        "mode.fit(X_train_new, y_train)"
      ]
    },
    {
      "cell_type": "code",
      "execution_count": 45,
      "metadata": {},
      "outputs": [],
      "source": [
        "y_pred = mode.predict(X_test_new)"
      ]
    },
    {
      "cell_type": "code",
      "execution_count": 46,
      "metadata": {},
      "outputs": [
        {
          "name": "stdout",
          "output_type": "stream",
          "text": [
            "              precision    recall  f1-score   support\n",
            "\n",
            "         0.0       0.77      0.82      0.79      1447\n",
            "         1.0       0.83      0.78      0.81      1658\n",
            "\n",
            "    accuracy                           0.80      3105\n",
            "   macro avg       0.80      0.80      0.80      3105\n",
            "weighted avg       0.80      0.80      0.80      3105\n",
            "\n"
          ]
        }
      ],
      "source": [
        "from sklearn.metrics import roc_auc_score, accuracy_score, f1_score, confusion_matrix, classification_report\n",
        "\n",
        "report = classification_report(y_test, y_pred)\n",
        "print(report)"
      ]
    },
    {
      "cell_type": "code",
      "execution_count": 47,
      "metadata": {},
      "outputs": [
        {
          "data": {
            "text/plain": [
              "['/content/PRIORIZAR/modelo/modelo_binario.joblib']"
            ]
          },
          "execution_count": 47,
          "metadata": {},
          "output_type": "execute_result"
        }
      ],
      "source": [
        "from joblib import dump\n",
        "dump(value=mode, filename=\"/content/PRIORIZAR/modelo/modelo_binario.joblib\")"
      ]
    }
  ],
  "metadata": {
    "colab": {
      "machine_shape": "hm",
      "provenance": []
    },
    "gpuClass": "standard",
    "kernelspec": {
      "display_name": "Python 3",
      "language": "python",
      "name": "python3"
    },
    "language_info": {
      "codemirror_mode": {
        "name": "ipython",
        "version": 3
      },
      "file_extension": ".py",
      "mimetype": "text/x-python",
      "name": "python",
      "nbconvert_exporter": "python",
      "pygments_lexer": "ipython3",
      "version": "3.10.12"
    }
  },
  "nbformat": 4,
  "nbformat_minor": 0
}
