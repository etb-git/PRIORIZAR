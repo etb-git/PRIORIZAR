{
 "cells": [
  {
   "cell_type": "markdown",
   "metadata": {},
   "source": [
    "# auxiliar"
   ]
  },
  {
   "cell_type": "code",
   "execution_count": 42,
   "metadata": {},
   "outputs": [],
   "source": [
    "import pandas as pd"
   ]
  },
  {
   "cell_type": "code",
   "execution_count": 43,
   "metadata": {},
   "outputs": [
    {
     "name": "stdout",
     "output_type": "stream",
     "text": [
      "2023-07-06 02:28:41.913041: W tensorflow/compiler/tf2tensorrt/utils/py_utils.cc:38] TF-TRT Warning: Could not find TensorRT\n",
      "Collecting es-core-news-sm==3.5.0\n",
      "  Downloading https://github.com/explosion/spacy-models/releases/download/es_core_news_sm-3.5.0/es_core_news_sm-3.5.0-py3-none-any.whl (12.9 MB)\n",
      "\u001b[2K     \u001b[90m━━━━━━━━━━━━━━━━━━━━━━━━━━━━━━━━━━━━━━━━\u001b[0m \u001b[32m12.9/12.9 MB\u001b[0m \u001b[31m48.4 MB/s\u001b[0m eta \u001b[36m0:00:00\u001b[0m00:01\u001b[0m0:01\u001b[0m\n",
      "\u001b[?25hRequirement already satisfied: spacy<3.6.0,>=3.5.0 in /usr/local/lib/python3.10/dist-packages (from es-core-news-sm==3.5.0) (3.5.3)\n",
      "Requirement already satisfied: spacy-legacy<3.1.0,>=3.0.11 in /usr/local/lib/python3.10/dist-packages (from spacy<3.6.0,>=3.5.0->es-core-news-sm==3.5.0) (3.0.12)\n",
      "Requirement already satisfied: spacy-loggers<2.0.0,>=1.0.0 in /usr/local/lib/python3.10/dist-packages (from spacy<3.6.0,>=3.5.0->es-core-news-sm==3.5.0) (1.0.4)\n",
      "Requirement already satisfied: murmurhash<1.1.0,>=0.28.0 in /usr/local/lib/python3.10/dist-packages (from spacy<3.6.0,>=3.5.0->es-core-news-sm==3.5.0) (1.0.9)\n",
      "Requirement already satisfied: cymem<2.1.0,>=2.0.2 in /usr/local/lib/python3.10/dist-packages (from spacy<3.6.0,>=3.5.0->es-core-news-sm==3.5.0) (2.0.7)\n",
      "Requirement already satisfied: preshed<3.1.0,>=3.0.2 in /usr/local/lib/python3.10/dist-packages (from spacy<3.6.0,>=3.5.0->es-core-news-sm==3.5.0) (3.0.8)\n",
      "Requirement already satisfied: thinc<8.2.0,>=8.1.8 in /usr/local/lib/python3.10/dist-packages (from spacy<3.6.0,>=3.5.0->es-core-news-sm==3.5.0) (8.1.10)\n",
      "Requirement already satisfied: wasabi<1.2.0,>=0.9.1 in /usr/local/lib/python3.10/dist-packages (from spacy<3.6.0,>=3.5.0->es-core-news-sm==3.5.0) (1.1.2)\n",
      "Requirement already satisfied: srsly<3.0.0,>=2.4.3 in /usr/local/lib/python3.10/dist-packages (from spacy<3.6.0,>=3.5.0->es-core-news-sm==3.5.0) (2.4.6)\n",
      "Requirement already satisfied: catalogue<2.1.0,>=2.0.6 in /usr/local/lib/python3.10/dist-packages (from spacy<3.6.0,>=3.5.0->es-core-news-sm==3.5.0) (2.0.8)\n",
      "Requirement already satisfied: typer<0.8.0,>=0.3.0 in /usr/local/lib/python3.10/dist-packages (from spacy<3.6.0,>=3.5.0->es-core-news-sm==3.5.0) (0.7.0)\n",
      "Requirement already satisfied: pathy>=0.10.0 in /usr/local/lib/python3.10/dist-packages (from spacy<3.6.0,>=3.5.0->es-core-news-sm==3.5.0) (0.10.2)\n",
      "Requirement already satisfied: smart-open<7.0.0,>=5.2.1 in /usr/local/lib/python3.10/dist-packages (from spacy<3.6.0,>=3.5.0->es-core-news-sm==3.5.0) (6.3.0)\n",
      "Requirement already satisfied: tqdm<5.0.0,>=4.38.0 in /usr/local/lib/python3.10/dist-packages (from spacy<3.6.0,>=3.5.0->es-core-news-sm==3.5.0) (4.65.0)\n",
      "Requirement already satisfied: numpy>=1.15.0 in /usr/local/lib/python3.10/dist-packages (from spacy<3.6.0,>=3.5.0->es-core-news-sm==3.5.0) (1.22.4)\n",
      "Requirement already satisfied: requests<3.0.0,>=2.13.0 in /usr/local/lib/python3.10/dist-packages (from spacy<3.6.0,>=3.5.0->es-core-news-sm==3.5.0) (2.27.1)\n",
      "Requirement already satisfied: pydantic!=1.8,!=1.8.1,<1.11.0,>=1.7.4 in /usr/local/lib/python3.10/dist-packages (from spacy<3.6.0,>=3.5.0->es-core-news-sm==3.5.0) (1.10.9)\n",
      "Requirement already satisfied: jinja2 in /usr/local/lib/python3.10/dist-packages (from spacy<3.6.0,>=3.5.0->es-core-news-sm==3.5.0) (3.1.2)\n",
      "Requirement already satisfied: setuptools in /usr/local/lib/python3.10/dist-packages (from spacy<3.6.0,>=3.5.0->es-core-news-sm==3.5.0) (67.7.2)\n",
      "Requirement already satisfied: packaging>=20.0 in /usr/local/lib/python3.10/dist-packages (from spacy<3.6.0,>=3.5.0->es-core-news-sm==3.5.0) (23.1)\n",
      "Requirement already satisfied: langcodes<4.0.0,>=3.2.0 in /usr/local/lib/python3.10/dist-packages (from spacy<3.6.0,>=3.5.0->es-core-news-sm==3.5.0) (3.3.0)\n",
      "Requirement already satisfied: typing-extensions>=4.2.0 in /usr/local/lib/python3.10/dist-packages (from pydantic!=1.8,!=1.8.1,<1.11.0,>=1.7.4->spacy<3.6.0,>=3.5.0->es-core-news-sm==3.5.0) (4.6.3)\n",
      "Requirement already satisfied: urllib3<1.27,>=1.21.1 in /usr/local/lib/python3.10/dist-packages (from requests<3.0.0,>=2.13.0->spacy<3.6.0,>=3.5.0->es-core-news-sm==3.5.0) (1.26.16)\n",
      "Requirement already satisfied: certifi>=2017.4.17 in /usr/local/lib/python3.10/dist-packages (from requests<3.0.0,>=2.13.0->spacy<3.6.0,>=3.5.0->es-core-news-sm==3.5.0) (2023.5.7)\n",
      "Requirement already satisfied: charset-normalizer~=2.0.0 in /usr/local/lib/python3.10/dist-packages (from requests<3.0.0,>=2.13.0->spacy<3.6.0,>=3.5.0->es-core-news-sm==3.5.0) (2.0.12)\n",
      "Requirement already satisfied: idna<4,>=2.5 in /usr/local/lib/python3.10/dist-packages (from requests<3.0.0,>=2.13.0->spacy<3.6.0,>=3.5.0->es-core-news-sm==3.5.0) (3.4)\n",
      "Requirement already satisfied: blis<0.8.0,>=0.7.8 in /usr/local/lib/python3.10/dist-packages (from thinc<8.2.0,>=8.1.8->spacy<3.6.0,>=3.5.0->es-core-news-sm==3.5.0) (0.7.9)\n",
      "Requirement already satisfied: confection<1.0.0,>=0.0.1 in /usr/local/lib/python3.10/dist-packages (from thinc<8.2.0,>=8.1.8->spacy<3.6.0,>=3.5.0->es-core-news-sm==3.5.0) (0.0.4)\n",
      "Requirement already satisfied: click<9.0.0,>=7.1.1 in /usr/local/lib/python3.10/dist-packages (from typer<0.8.0,>=0.3.0->spacy<3.6.0,>=3.5.0->es-core-news-sm==3.5.0) (8.1.3)\n",
      "Requirement already satisfied: MarkupSafe>=2.0 in /usr/local/lib/python3.10/dist-packages (from jinja2->spacy<3.6.0,>=3.5.0->es-core-news-sm==3.5.0) (2.1.3)\n",
      "\u001b[38;5;2m✔ Download and installation successful\u001b[0m\n",
      "You can now load the package via spacy.load('es_core_news_sm')\n"
     ]
    }
   ],
   "source": [
    "!python -m spacy download es_core_news_sm"
   ]
  },
  {
   "cell_type": "code",
   "execution_count": 44,
   "metadata": {},
   "outputs": [
    {
     "name": "stdout",
     "output_type": "stream",
     "text": [
      "Requirement already satisfied: pycorrector in /usr/local/lib/python3.10/dist-packages (0.5.0)\n",
      "Requirement already satisfied: jieba in /usr/local/lib/python3.10/dist-packages (from pycorrector) (0.42.1)\n",
      "Requirement already satisfied: pypinyin in /usr/local/lib/python3.10/dist-packages (from pycorrector) (0.49.0)\n",
      "Requirement already satisfied: numpy in /usr/local/lib/python3.10/dist-packages (from pycorrector) (1.22.4)\n",
      "Requirement already satisfied: six in /usr/local/lib/python3.10/dist-packages (from pycorrector) (1.16.0)\n",
      "Requirement already satisfied: loguru in /usr/local/lib/python3.10/dist-packages (from pycorrector) (0.7.0)\n",
      "Requirement already satisfied: kenlm in /usr/local/lib/python3.10/dist-packages (from pycorrector) (0.1)\n",
      "Requirement already satisfied: unidecode in /usr/local/lib/python3.10/dist-packages (1.3.6)\n",
      "Requirement already satisfied: pyspellchecker in /usr/local/lib/python3.10/dist-packages (0.7.2)\n"
     ]
    }
   ],
   "source": [
    "%pip install pycorrector\n",
    "%pip install unidecode\n",
    "%pip install pyspellchecker"
   ]
  },
  {
   "cell_type": "code",
   "execution_count": 45,
   "metadata": {},
   "outputs": [
    {
     "data": {
      "text/html": [
       "\n",
       "  <div id=\"df-eb6f789b-d0ee-4ce9-8d76-ed205f33dcec\">\n",
       "    <div class=\"colab-df-container\">\n",
       "      <div>\n",
       "<style scoped>\n",
       "    .dataframe tbody tr th:only-of-type {\n",
       "        vertical-align: middle;\n",
       "    }\n",
       "\n",
       "    .dataframe tbody tr th {\n",
       "        vertical-align: top;\n",
       "    }\n",
       "\n",
       "    .dataframe thead th {\n",
       "        text-align: right;\n",
       "    }\n",
       "</style>\n",
       "<table border=\"1\" class=\"dataframe\">\n",
       "  <thead>\n",
       "    <tr style=\"text-align: right;\">\n",
       "      <th></th>\n",
       "      <th>index</th>\n",
       "      <th>NUMERO_PQR</th>\n",
       "      <th>DESCRIPCION_PQR_x</th>\n",
       "      <th>correccion</th>\n",
       "    </tr>\n",
       "  </thead>\n",
       "  <tbody>\n",
       "    <tr>\n",
       "      <th>0</th>\n",
       "      <td>0</td>\n",
       "      <td>MDM-PQR-35424371</td>\n",
       "      <td>SG//LT: 6016133556 cuenta 12054410753// client...</td>\n",
       "      <td>INCREMENTO DE TARIFA</td>\n",
       "    </tr>\n",
       "    <tr>\n",
       "      <th>1</th>\n",
       "      <td>1</td>\n",
       "      <td>MDM-PQR-35424385</td>\n",
       "      <td>SG//LT: 6017257398 cuenta 12054364769// client...</td>\n",
       "      <td>INCREMENTO DE TARIFA</td>\n",
       "    </tr>\n",
       "    <tr>\n",
       "      <th>2</th>\n",
       "      <td>2</td>\n",
       "      <td>MDM-PQR-35424468</td>\n",
       "      <td>SG//LT: 6013835268 cuenta 12053820540// client...</td>\n",
       "      <td>INCREMENTO DE TARIFA</td>\n",
       "    </tr>\n",
       "    <tr>\n",
       "      <th>3</th>\n",
       "      <td>3</td>\n",
       "      <td>MDM-PQR-35425107</td>\n",
       "      <td>Línea: 6016456888 Nombre de quien se comunica:...</td>\n",
       "      <td>SVAS</td>\n",
       "    </tr>\n",
       "    <tr>\n",
       "      <th>4</th>\n",
       "      <td>4</td>\n",
       "      <td>MDM-PQR-35426399</td>\n",
       "      <td>CLIENTE DESEA CONOCER LA FACTURA GENERADA</td>\n",
       "      <td>otros</td>\n",
       "    </tr>\n",
       "    <tr>\n",
       "      <th>...</th>\n",
       "      <td>...</td>\n",
       "      <td>...</td>\n",
       "      <td>...</td>\n",
       "      <td>...</td>\n",
       "    </tr>\n",
       "    <tr>\n",
       "      <th>1330</th>\n",
       "      <td>1488</td>\n",
       "      <td>MDM-PQR-37429227</td>\n",
       "      <td>Nombre:   LUIS ALFONSO RODRIGUEZ HERAZO   CC: ...</td>\n",
       "      <td>compensacin</td>\n",
       "    </tr>\n",
       "    <tr>\n",
       "      <th>1331</th>\n",
       "      <td>1489</td>\n",
       "      <td>MDM-PQR-37429228</td>\n",
       "      <td>Nombre: GLORIA JANETH ALARCON ALARCON   Cedula...</td>\n",
       "      <td>compensacin</td>\n",
       "    </tr>\n",
       "    <tr>\n",
       "      <th>1332</th>\n",
       "      <td>1490</td>\n",
       "      <td>MDM-PQR-37429229</td>\n",
       "      <td>clienta solicita informaci̟n referente a factu...</td>\n",
       "      <td>compensacin</td>\n",
       "    </tr>\n",
       "    <tr>\n",
       "      <th>1333</th>\n",
       "      <td>1491</td>\n",
       "      <td>MDM-PQR-37429230</td>\n",
       "      <td>NOMBRE:alejandra  C.C. 79738807 TEL.3026604594...</td>\n",
       "      <td>compensacin</td>\n",
       "    </tr>\n",
       "    <tr>\n",
       "      <th>1334</th>\n",
       "      <td>1492</td>\n",
       "      <td>MDM-PQR-37429231</td>\n",
       "      <td>L̟nea: 6013633155 Nombre de quien se comunica:...</td>\n",
       "      <td>compensacin</td>\n",
       "    </tr>\n",
       "  </tbody>\n",
       "</table>\n",
       "<p>1335 rows × 4 columns</p>\n",
       "</div>\n",
       "      <button class=\"colab-df-convert\" onclick=\"convertToInteractive('df-eb6f789b-d0ee-4ce9-8d76-ed205f33dcec')\"\n",
       "              title=\"Convert this dataframe to an interactive table.\"\n",
       "              style=\"display:none;\">\n",
       "        \n",
       "  <svg xmlns=\"http://www.w3.org/2000/svg\" height=\"24px\"viewBox=\"0 0 24 24\"\n",
       "       width=\"24px\">\n",
       "    <path d=\"M0 0h24v24H0V0z\" fill=\"none\"/>\n",
       "    <path d=\"M18.56 5.44l.94 2.06.94-2.06 2.06-.94-2.06-.94-.94-2.06-.94 2.06-2.06.94zm-11 1L8.5 8.5l.94-2.06 2.06-.94-2.06-.94L8.5 2.5l-.94 2.06-2.06.94zm10 10l.94 2.06.94-2.06 2.06-.94-2.06-.94-.94-2.06-.94 2.06-2.06.94z\"/><path d=\"M17.41 7.96l-1.37-1.37c-.4-.4-.92-.59-1.43-.59-.52 0-1.04.2-1.43.59L10.3 9.45l-7.72 7.72c-.78.78-.78 2.05 0 2.83L4 21.41c.39.39.9.59 1.41.59.51 0 1.02-.2 1.41-.59l7.78-7.78 2.81-2.81c.8-.78.8-2.07 0-2.86zM5.41 20L4 18.59l7.72-7.72 1.47 1.35L5.41 20z\"/>\n",
       "  </svg>\n",
       "      </button>\n",
       "      \n",
       "  <style>\n",
       "    .colab-df-container {\n",
       "      display:flex;\n",
       "      flex-wrap:wrap;\n",
       "      gap: 12px;\n",
       "    }\n",
       "\n",
       "    .colab-df-convert {\n",
       "      background-color: #E8F0FE;\n",
       "      border: none;\n",
       "      border-radius: 50%;\n",
       "      cursor: pointer;\n",
       "      display: none;\n",
       "      fill: #1967D2;\n",
       "      height: 32px;\n",
       "      padding: 0 0 0 0;\n",
       "      width: 32px;\n",
       "    }\n",
       "\n",
       "    .colab-df-convert:hover {\n",
       "      background-color: #E2EBFA;\n",
       "      box-shadow: 0px 1px 2px rgba(60, 64, 67, 0.3), 0px 1px 3px 1px rgba(60, 64, 67, 0.15);\n",
       "      fill: #174EA6;\n",
       "    }\n",
       "\n",
       "    [theme=dark] .colab-df-convert {\n",
       "      background-color: #3B4455;\n",
       "      fill: #D2E3FC;\n",
       "    }\n",
       "\n",
       "    [theme=dark] .colab-df-convert:hover {\n",
       "      background-color: #434B5C;\n",
       "      box-shadow: 0px 1px 3px 1px rgba(0, 0, 0, 0.15);\n",
       "      filter: drop-shadow(0px 1px 2px rgba(0, 0, 0, 0.3));\n",
       "      fill: #FFFFFF;\n",
       "    }\n",
       "  </style>\n",
       "\n",
       "      <script>\n",
       "        const buttonEl =\n",
       "          document.querySelector('#df-eb6f789b-d0ee-4ce9-8d76-ed205f33dcec button.colab-df-convert');\n",
       "        buttonEl.style.display =\n",
       "          google.colab.kernel.accessAllowed ? 'block' : 'none';\n",
       "\n",
       "        async function convertToInteractive(key) {\n",
       "          const element = document.querySelector('#df-eb6f789b-d0ee-4ce9-8d76-ed205f33dcec');\n",
       "          const dataTable =\n",
       "            await google.colab.kernel.invokeFunction('convertToInteractive',\n",
       "                                                     [key], {});\n",
       "          if (!dataTable) return;\n",
       "\n",
       "          const docLinkHtml = 'Like what you see? Visit the ' +\n",
       "            '<a target=\"_blank\" href=https://colab.research.google.com/notebooks/data_table.ipynb>data table notebook</a>'\n",
       "            + ' to learn more about interactive tables.';\n",
       "          element.innerHTML = '';\n",
       "          dataTable['output_type'] = 'display_data';\n",
       "          await google.colab.output.renderOutput(dataTable, element);\n",
       "          const docLink = document.createElement('div');\n",
       "          docLink.innerHTML = docLinkHtml;\n",
       "          element.appendChild(docLink);\n",
       "        }\n",
       "      </script>\n",
       "    </div>\n",
       "  </div>\n",
       "  "
      ],
      "text/plain": [
       "      index        NUMERO_PQR  \\\n",
       "0         0  MDM-PQR-35424371   \n",
       "1         1  MDM-PQR-35424385   \n",
       "2         2  MDM-PQR-35424468   \n",
       "3         3  MDM-PQR-35425107   \n",
       "4         4  MDM-PQR-35426399   \n",
       "...     ...               ...   \n",
       "1330   1488  MDM-PQR-37429227   \n",
       "1331   1489  MDM-PQR-37429228   \n",
       "1332   1490  MDM-PQR-37429229   \n",
       "1333   1491  MDM-PQR-37429230   \n",
       "1334   1492  MDM-PQR-37429231   \n",
       "\n",
       "                                      DESCRIPCION_PQR_x            correccion  \n",
       "0     SG//LT: 6016133556 cuenta 12054410753// client...  INCREMENTO DE TARIFA  \n",
       "1     SG//LT: 6017257398 cuenta 12054364769// client...  INCREMENTO DE TARIFA  \n",
       "2     SG//LT: 6013835268 cuenta 12053820540// client...  INCREMENTO DE TARIFA  \n",
       "3     Línea: 6016456888 Nombre de quien se comunica:...                  SVAS  \n",
       "4             CLIENTE DESEA CONOCER LA FACTURA GENERADA                 otros  \n",
       "...                                                 ...                   ...  \n",
       "1330  Nombre:   LUIS ALFONSO RODRIGUEZ HERAZO   CC: ...           compensacin  \n",
       "1331  Nombre: GLORIA JANETH ALARCON ALARCON   Cedula...           compensacin  \n",
       "1332  clienta solicita informaci̟n referente a factu...           compensacin  \n",
       "1333  NOMBRE:alejandra  C.C. 79738807 TEL.3026604594...           compensacin  \n",
       "1334  L̟nea: 6013633155 Nombre de quien se comunica:...           compensacin  \n",
       "\n",
       "[1335 rows x 4 columns]"
      ]
     },
     "execution_count": 45,
     "metadata": {},
     "output_type": "execute_result"
    }
   ],
   "source": [
    "tipificacion=pd.read_excel(\"/content/PRIORIZAR-1/data/retipi.xlsx\").drop_duplicates()\n",
    "\n",
    "\n",
    "tipificacion = tipificacion[tipificacion['correccion'] != 'conceptos facturados']\n",
    "\n",
    "tipificacion=tipificacion.reset_index()\n",
    "\n",
    "\n",
    "tipificacion\n"
   ]
  },
  {
   "cell_type": "code",
   "execution_count": 46,
   "metadata": {},
   "outputs": [
    {
     "data": {
      "text/plain": [
       "INCREMENTO DE TARIFA      347\n",
       "otros                     334\n",
       "ASEGURAMIENTO             211\n",
       "SVAS                      175\n",
       "BENEFICIO DE RETENCION    154\n",
       "compensacin               113\n",
       "Name: correccion, dtype: int64"
      ]
     },
     "execution_count": 46,
     "metadata": {},
     "output_type": "execute_result"
    }
   ],
   "source": [
    "tipificacion['correccion'].value_counts()"
   ]
  },
  {
   "cell_type": "code",
   "execution_count": 47,
   "metadata": {},
   "outputs": [
    {
     "name": "stderr",
     "output_type": "stream",
     "text": [
      "[nltk_data] Downloading package stopwords to /root/nltk_data...\n",
      "[nltk_data]   Package stopwords is already up-to-date!\n",
      "[nltk_data] Downloading package punkt to /root/nltk_data...\n",
      "[nltk_data]   Package punkt is already up-to-date!\n",
      "[nltk_data] Downloading package wordnet to /root/nltk_data...\n",
      "[nltk_data]   Package wordnet is already up-to-date!\n",
      "[nltk_data] Downloading package omw-1.4 to /root/nltk_data...\n",
      "[nltk_data]   Package omw-1.4 is already up-to-date!\n"
     ]
    }
   ],
   "source": [
    "import pandas as pd\n",
    "\n",
    "import gc\n",
    "\n",
    "import seaborn as sns\n",
    "import plotly.express as px\n",
    "\n",
    "import numpy as np\n",
    "\n",
    "import sqlite3\n",
    "from sqlite3 import Error\n",
    "import os\n",
    "import re, string\n",
    "from nltk.corpus import stopwords\n",
    "import nltk\n",
    "import matplotlib.pyplot as plt\n",
    "\n",
    "import torch\n",
    "#from transformers import AutoTokenizer, BertForSequenceClassification\n",
    "\n",
    "\n",
    "\n",
    "\n",
    "\n",
    "nltk.download(\"stopwords\")\n",
    "nltk.download('punkt')\n",
    "nltk.download('wordnet')\n",
    "nltk.download('omw-1.4')\n",
    "\n",
    "\n",
    "import pandas as pd\n",
    "import re, string\n",
    "\n",
    "\n",
    "pd.options.display.max_columns = None\n",
    "\n",
    "#from sentence_transformers import SentenceTransformer, util\n",
    "#from transformers import *\n",
    "\n",
    "import spacy\n",
    "\n",
    "nlp = spacy.load('es_core_news_sm', disable=['tagger', 'parser', 'ner'])\n",
    "\n",
    "\n",
    "\n",
    "from sklearn.preprocessing import StandardScaler, MinMaxScaler\n",
    "from sklearn import preprocessing"
   ]
  },
  {
   "cell_type": "markdown",
   "metadata": {},
   "source": [
    "# aca empieza el modelo"
   ]
  },
  {
   "cell_type": "code",
   "execution_count": 48,
   "metadata": {},
   "outputs": [],
   "source": [
    "sys.path.append('../librerias')\n"
   ]
  },
  {
   "cell_type": "code",
   "execution_count": 49,
   "metadata": {},
   "outputs": [],
   "source": [
    "from clean_text import clean_text"
   ]
  },
  {
   "cell_type": "code",
   "execution_count": 50,
   "metadata": {},
   "outputs": [
    {
     "data": {
      "application/vnd.google.colaboratory.intrinsic+json": {
       "type": "string"
      },
      "text/plain": [
       "' unica porque retiro de hbo y paramot'"
      ]
     },
     "execution_count": 50,
     "metadata": {},
     "output_type": "execute_result"
    }
   ],
   "source": [
    "\n",
    "#declare answers and questions\n",
    "descripcion=tipificacion.DESCRIPCION_PQR_x\t\n",
    "\n",
    "\n",
    "\n",
    "# Cleaning the questions\n",
    "\n",
    "clean_descripcion = []\n",
    "for des in descripcion:\n",
    "    clean_descripcion.append(clean_text(des))\n",
    "\n",
    "\n",
    "#clean_descripcion=[k for k in clean_descripcion if 'soporte'  in k]\n",
    "\n",
    "clean_descripcion  [881]"
   ]
  },
  {
   "cell_type": "markdown",
   "metadata": {},
   "source": [
    "spelling"
   ]
  },
  {
   "cell_type": "code",
   "execution_count": 51,
   "metadata": {},
   "outputs": [],
   "source": [
    "from spelling import correct_sentence\n",
    "\n",
    "\n",
    "corrected_text_list = [correct_sentence(text) for text in clean_descripcion]\n",
    "clean_descripcion=corrected_text_list"
   ]
  },
  {
   "cell_type": "code",
   "execution_count": 52,
   "metadata": {},
   "outputs": [
    {
     "data": {
      "application/vnd.google.colaboratory.intrinsic+json": {
       "type": "string"
      },
      "text/plain": [
       "'loca se penalizar asesor ya que no tiene encanta en el traslado paso de duo a trio por tanto el cobro de la clausula de permanencia en el servicio de tv'"
      ]
     },
     "execution_count": 52,
     "metadata": {},
     "output_type": "execute_result"
    }
   ],
   "source": [
    "clean_descripcion[81]"
   ]
  },
  {
   "cell_type": "markdown",
   "metadata": {},
   "source": [
    "lemma token "
   ]
  },
  {
   "cell_type": "code",
   "execution_count": 53,
   "metadata": {},
   "outputs": [
    {
     "data": {
      "text/plain": [
       "['unicar', 'llego', 'cobro', 'hbo']"
      ]
     },
     "execution_count": 53,
     "metadata": {},
     "output_type": "execute_result"
    }
   ],
   "source": [
    "from lemastem import data_preprocessing\n",
    "\n",
    "\n",
    "clean_descripcion=data_preprocessing(clean_descripcion)\n",
    "clean_descripcion[3]"
   ]
  },
  {
   "cell_type": "code",
   "execution_count": 54,
   "metadata": {},
   "outputs": [
    {
     "data": {
      "text/html": [
       "\n",
       "  <div id=\"df-402dce5c-13b8-4b7f-bd4c-880dd1f14f16\">\n",
       "    <div class=\"colab-df-container\">\n",
       "      <div>\n",
       "<style scoped>\n",
       "    .dataframe tbody tr th:only-of-type {\n",
       "        vertical-align: middle;\n",
       "    }\n",
       "\n",
       "    .dataframe tbody tr th {\n",
       "        vertical-align: top;\n",
       "    }\n",
       "\n",
       "    .dataframe thead th {\n",
       "        text-align: right;\n",
       "    }\n",
       "</style>\n",
       "<table border=\"1\" class=\"dataframe\">\n",
       "  <thead>\n",
       "    <tr style=\"text-align: right;\">\n",
       "      <th></th>\n",
       "      <th>descripcion</th>\n",
       "      <th>correccion</th>\n",
       "    </tr>\n",
       "  </thead>\n",
       "  <tbody>\n",
       "    <tr>\n",
       "      <th>0</th>\n",
       "      <td>solicitar ajuste factura acuerdo cobro reconex...</td>\n",
       "      <td>INCREMENTO DE TARIFA</td>\n",
       "    </tr>\n",
       "    <tr>\n",
       "      <th>1</th>\n",
       "      <td>solicitar ajuste factura acuerdo cobro reconex...</td>\n",
       "      <td>INCREMENTO DE TARIFA</td>\n",
       "    </tr>\n",
       "    <tr>\n",
       "      <th>2</th>\n",
       "      <td>solicitar ajuste factura acuerdo cobro reconex...</td>\n",
       "      <td>INCREMENTO DE TARIFA</td>\n",
       "    </tr>\n",
       "    <tr>\n",
       "      <th>4</th>\n",
       "      <td>conocer factura generado</td>\n",
       "      <td>otros</td>\n",
       "    </tr>\n",
       "    <tr>\n",
       "      <th>6</th>\n",
       "      <td>locacion tarifa retencion ofrecer bajo oferta ...</td>\n",
       "      <td>ASEGURAMIENTO</td>\n",
       "    </tr>\n",
       "    <tr>\n",
       "      <th>...</th>\n",
       "      <td>...</td>\n",
       "      <td>...</td>\n",
       "    </tr>\n",
       "    <tr>\n",
       "      <th>1330</th>\n",
       "      <td>sensacion</td>\n",
       "      <td>compensacin</td>\n",
       "    </tr>\n",
       "    <tr>\n",
       "      <th>1331</th>\n",
       "      <td>unicar estar generar factura</td>\n",
       "      <td>compensacin</td>\n",
       "    </tr>\n",
       "    <tr>\n",
       "      <th>1332</th>\n",
       "      <td>sensacion fallo presento anterior</td>\n",
       "      <td>compensacin</td>\n",
       "    </tr>\n",
       "    <tr>\n",
       "      <th>1333</th>\n",
       "      <td></td>\n",
       "      <td>compensacin</td>\n",
       "    </tr>\n",
       "    <tr>\n",
       "      <th>1334</th>\n",
       "      <td>ajuste factura fallo</td>\n",
       "      <td>compensacin</td>\n",
       "    </tr>\n",
       "  </tbody>\n",
       "</table>\n",
       "<p>1159 rows × 2 columns</p>\n",
       "</div>\n",
       "      <button class=\"colab-df-convert\" onclick=\"convertToInteractive('df-402dce5c-13b8-4b7f-bd4c-880dd1f14f16')\"\n",
       "              title=\"Convert this dataframe to an interactive table.\"\n",
       "              style=\"display:none;\">\n",
       "        \n",
       "  <svg xmlns=\"http://www.w3.org/2000/svg\" height=\"24px\"viewBox=\"0 0 24 24\"\n",
       "       width=\"24px\">\n",
       "    <path d=\"M0 0h24v24H0V0z\" fill=\"none\"/>\n",
       "    <path d=\"M18.56 5.44l.94 2.06.94-2.06 2.06-.94-2.06-.94-.94-2.06-.94 2.06-2.06.94zm-11 1L8.5 8.5l.94-2.06 2.06-.94-2.06-.94L8.5 2.5l-.94 2.06-2.06.94zm10 10l.94 2.06.94-2.06 2.06-.94-2.06-.94-.94-2.06-.94 2.06-2.06.94z\"/><path d=\"M17.41 7.96l-1.37-1.37c-.4-.4-.92-.59-1.43-.59-.52 0-1.04.2-1.43.59L10.3 9.45l-7.72 7.72c-.78.78-.78 2.05 0 2.83L4 21.41c.39.39.9.59 1.41.59.51 0 1.02-.2 1.41-.59l7.78-7.78 2.81-2.81c.8-.78.8-2.07 0-2.86zM5.41 20L4 18.59l7.72-7.72 1.47 1.35L5.41 20z\"/>\n",
       "  </svg>\n",
       "      </button>\n",
       "      \n",
       "  <style>\n",
       "    .colab-df-container {\n",
       "      display:flex;\n",
       "      flex-wrap:wrap;\n",
       "      gap: 12px;\n",
       "    }\n",
       "\n",
       "    .colab-df-convert {\n",
       "      background-color: #E8F0FE;\n",
       "      border: none;\n",
       "      border-radius: 50%;\n",
       "      cursor: pointer;\n",
       "      display: none;\n",
       "      fill: #1967D2;\n",
       "      height: 32px;\n",
       "      padding: 0 0 0 0;\n",
       "      width: 32px;\n",
       "    }\n",
       "\n",
       "    .colab-df-convert:hover {\n",
       "      background-color: #E2EBFA;\n",
       "      box-shadow: 0px 1px 2px rgba(60, 64, 67, 0.3), 0px 1px 3px 1px rgba(60, 64, 67, 0.15);\n",
       "      fill: #174EA6;\n",
       "    }\n",
       "\n",
       "    [theme=dark] .colab-df-convert {\n",
       "      background-color: #3B4455;\n",
       "      fill: #D2E3FC;\n",
       "    }\n",
       "\n",
       "    [theme=dark] .colab-df-convert:hover {\n",
       "      background-color: #434B5C;\n",
       "      box-shadow: 0px 1px 3px 1px rgba(0, 0, 0, 0.15);\n",
       "      filter: drop-shadow(0px 1px 2px rgba(0, 0, 0, 0.3));\n",
       "      fill: #FFFFFF;\n",
       "    }\n",
       "  </style>\n",
       "\n",
       "      <script>\n",
       "        const buttonEl =\n",
       "          document.querySelector('#df-402dce5c-13b8-4b7f-bd4c-880dd1f14f16 button.colab-df-convert');\n",
       "        buttonEl.style.display =\n",
       "          google.colab.kernel.accessAllowed ? 'block' : 'none';\n",
       "\n",
       "        async function convertToInteractive(key) {\n",
       "          const element = document.querySelector('#df-402dce5c-13b8-4b7f-bd4c-880dd1f14f16');\n",
       "          const dataTable =\n",
       "            await google.colab.kernel.invokeFunction('convertToInteractive',\n",
       "                                                     [key], {});\n",
       "          if (!dataTable) return;\n",
       "\n",
       "          const docLinkHtml = 'Like what you see? Visit the ' +\n",
       "            '<a target=\"_blank\" href=https://colab.research.google.com/notebooks/data_table.ipynb>data table notebook</a>'\n",
       "            + ' to learn more about interactive tables.';\n",
       "          element.innerHTML = '';\n",
       "          dataTable['output_type'] = 'display_data';\n",
       "          await google.colab.output.renderOutput(dataTable, element);\n",
       "          const docLink = document.createElement('div');\n",
       "          docLink.innerHTML = docLinkHtml;\n",
       "          element.appendChild(docLink);\n",
       "        }\n",
       "      </script>\n",
       "    </div>\n",
       "  </div>\n",
       "  "
      ],
      "text/plain": [
       "                                            descripcion            correccion\n",
       "0     solicitar ajuste factura acuerdo cobro reconex...  INCREMENTO DE TARIFA\n",
       "1     solicitar ajuste factura acuerdo cobro reconex...  INCREMENTO DE TARIFA\n",
       "2     solicitar ajuste factura acuerdo cobro reconex...  INCREMENTO DE TARIFA\n",
       "4                              conocer factura generado                 otros\n",
       "6     locacion tarifa retencion ofrecer bajo oferta ...         ASEGURAMIENTO\n",
       "...                                                 ...                   ...\n",
       "1330                                          sensacion           compensacin\n",
       "1331                       unicar estar generar factura           compensacin\n",
       "1332                  sensacion fallo presento anterior           compensacin\n",
       "1333                                                              compensacin\n",
       "1334                               ajuste factura fallo           compensacin\n",
       "\n",
       "[1159 rows x 2 columns]"
      ]
     },
     "execution_count": 54,
     "metadata": {},
     "output_type": "execute_result"
    }
   ],
   "source": [
    "merged_data=[]\n",
    "for i in range(len(clean_descripcion)):\n",
    "    merged_data.append(\" \".join(clean_descripcion[i]))\n",
    "\n",
    "merged_df=pd.DataFrame(merged_data,columns =['descripcion'])\n",
    "\n",
    "\n",
    "from unidecode import unidecode\n",
    "\n",
    "def remove_accents(text):\n",
    "    return unidecode(text)\n",
    "\n",
    "\n",
    "# Aplicar la función a la columna 'Texto'\n",
    "merged_df['descripcion'] = merged_df['descripcion'].apply(remove_accents)\n",
    "\n",
    "\n",
    "tipificacion=pd.concat([tipificacion, merged_df], axis=1).loc[:, ['descripcion', 'correccion']]\n",
    "\n",
    "#merged_df = pd.merge(merged_df,leo , on='index', how='inner').loc[:, ['descripcion', 'correccion']]\n",
    "#############################################\n",
    "\n",
    "\n",
    "\n",
    "\n",
    "tipificacion = tipificacion[tipificacion['correccion'] != 'SVAS']\n",
    "\n",
    "\n",
    "tipificacion=tipificacion.dropna()\n",
    "\n",
    "tipificacion"
   ]
  },
  {
   "cell_type": "code",
   "execution_count": 55,
   "metadata": {},
   "outputs": [
    {
     "data": {
      "text/plain": [
       "descripcion    0\n",
       "correccion     0\n",
       "dtype: int64"
      ]
     },
     "execution_count": 55,
     "metadata": {},
     "output_type": "execute_result"
    }
   ],
   "source": [
    "tipificacion.isnull().sum()"
   ]
  },
  {
   "cell_type": "code",
   "execution_count": 56,
   "metadata": {},
   "outputs": [],
   "source": [
    "import pandas as pd\n",
    "from imblearn.over_sampling import RandomOverSampler\n",
    "from imblearn.under_sampling import RandomUnderSampler\n",
    "\n",
    "# Assuming you have a DataFrame called 'data' with 'categories' column\n",
    "# where categories are labeled as 1, 2, and 3\n",
    "mapping = {'otros': 0, 'INCREMENTO DE TARIFA': 1, 'ASEGURAMIENTO': 2,  'BENEFICIO DE RETENCION': 3,'compensacin': 4}\n",
    "\n",
    "# Separate features and target variable\n",
    "X = tipificacion.drop('correccion', axis=1)\n",
    "y = tipificacion['correccion'].replace(mapping)\n",
    "\n",
    "# Oversampling using RandomOverSampler\n",
    "oversampler = RandomOverSampler(sampling_strategy='auto')\n",
    "X_resampled, y_resampled = oversampler.fit_resample(X, y)\n",
    "\n",
    "\n",
    "\n",
    "\n"
   ]
  },
  {
   "cell_type": "markdown",
   "metadata": {},
   "source": [
    "mapping = {'otros': 0, 'INCREMENTO DE TARIFA': 1, 'ASEGURAMIENTO': 2,  'BENEFICIO DE RETENCION': 3,'compensacin': 4}"
   ]
  },
  {
   "cell_type": "markdown",
   "metadata": {},
   "source": [
    "crear matriz de numeros "
   ]
  },
  {
   "cell_type": "code",
   "execution_count": 57,
   "metadata": {},
   "outputs": [],
   "source": [
    "from tfidf import TFIDF"
   ]
  },
  {
   "cell_type": "code",
   "execution_count": 58,
   "metadata": {},
   "outputs": [
    {
     "name": "stdout",
     "output_type": "stream",
     "text": [
      "tf-idf with 830 features\n",
      "train with old features:  (1388, 830)\n",
      "train with new features: (1388, 299)\n",
      "test with old features:  (347, 830)\n",
      "test with new features: (347, 299)\n",
      "Training Data : (1388, 830)\n",
      "Testing Data :  (347, 830)\n"
     ]
    },
    {
     "data": {
      "text/plain": [
       "['/content/PRIORIZAR-1/modelo/pca_retipificacion.joblib']"
      ]
     },
     "execution_count": 58,
     "metadata": {},
     "output_type": "execute_result"
    }
   ],
   "source": [
    "\n",
    "from sklearn.feature_extraction.text import TfidfVectorizer\n",
    "import numpy as np\n",
    "from sklearn.decomposition import PCA\n",
    "from sklearn.model_selection import train_test_split\n",
    "\n",
    "from joblib import dump\n",
    "\n",
    "\n",
    "X = X_resampled['descripcion']\n",
    "\n",
    "y = y_resampled\n",
    "\n",
    "\n",
    "\n",
    "\n",
    "# train test split (66% train - 33% test)\n",
    "\n",
    "\n",
    "X_train, X_test, y_train, y_test = train_test_split(X, y, test_size=0.20, random_state=123)\n",
    "\n",
    "\n",
    "\n",
    "\n",
    "X_train,X_test = TFIDF(X_train,X_test)\n",
    "\n",
    "pca = PCA()\n",
    "\n",
    "pca.fit(X_train)\n",
    "\n",
    "# Get the explained variance ratio for each component\n",
    "explained_variance_ratio = pca.explained_variance_ratio_\n",
    "\n",
    "# Calculate the cumulative explained variance ratio\n",
    "cumulative_variance_ratio = np.cumsum(explained_variance_ratio)\n",
    "\n",
    "# Find the number of components that explain a desired amount of variance\n",
    "desired_variance = 0.95  # Set the desired variance threshold\n",
    "n_components = np.argmax(cumulative_variance_ratio >= desired_variance) + 1\n",
    "\n",
    "# Create a new instance of PCA with the optimal number of components\n",
    "pca = PCA(n_components=n_components)\n",
    "\n",
    "\n",
    "X_train_new = pca.fit_transform(X_train)\n",
    "X_test_new = pca.transform(X_test)\n",
    "\n",
    "print(\"train with old features: \",np.array(X_train).shape)\n",
    "print(\"train with new features:\" ,np.array(X_train_new).shape)\n",
    "\n",
    "print(\"test with old features: \",np.array(X_test).shape)\n",
    "print(\"test with new features:\" ,np.array(X_test_new).shape)\n",
    "\n",
    "\n",
    "\n",
    "\n",
    "\n",
    "print('Training Data :', X_train.shape)\n",
    "\n",
    "print('Testing Data : ', X_test.shape)\n",
    "\n",
    "\n",
    "dump(value=pca, filename=\"/content/PRIORIZAR/modelo/pca_retipificacion.joblib\")\n",
    "\n"
   ]
  },
  {
   "cell_type": "code",
   "execution_count": 60,
   "metadata": {},
   "outputs": [
    {
     "name": "stdout",
     "output_type": "stream",
     "text": [
      "Collecting optuna\n",
      "  Downloading optuna-3.2.0-py3-none-any.whl (390 kB)\n",
      "\u001b[2K     \u001b[90m━━━━━━━━━━━━━━━━━━━━━━━━━━━━━━━━━━━━━━━\u001b[0m \u001b[32m390.6/390.6 kB\u001b[0m \u001b[31m7.6 MB/s\u001b[0m eta \u001b[36m0:00:00\u001b[0ma \u001b[36m0:00:01\u001b[0m\n",
      "\u001b[?25hCollecting alembic>=1.5.0 (from optuna)\n",
      "  Downloading alembic-1.11.1-py3-none-any.whl (224 kB)\n",
      "\u001b[2K     \u001b[90m━━━━━━━━━━━━━━━━━━━━━━━━━━━━━━━━━━━━━━\u001b[0m \u001b[32m224.5/224.5 kB\u001b[0m \u001b[31m22.7 MB/s\u001b[0m eta \u001b[36m0:00:00\u001b[0m\n",
      "\u001b[?25hCollecting cmaes>=0.9.1 (from optuna)\n",
      "  Downloading cmaes-0.9.1-py3-none-any.whl (21 kB)\n",
      "Collecting colorlog (from optuna)\n",
      "  Downloading colorlog-6.7.0-py2.py3-none-any.whl (11 kB)\n",
      "Requirement already satisfied: numpy in /usr/local/lib/python3.10/dist-packages (from optuna) (1.22.4)\n",
      "Requirement already satisfied: packaging>=20.0 in /usr/local/lib/python3.10/dist-packages (from optuna) (23.1)\n",
      "Requirement already satisfied: sqlalchemy>=1.3.0 in /usr/local/lib/python3.10/dist-packages (from optuna) (2.0.16)\n",
      "Requirement already satisfied: tqdm in /usr/local/lib/python3.10/dist-packages (from optuna) (4.65.0)\n",
      "Requirement already satisfied: PyYAML in /usr/local/lib/python3.10/dist-packages (from optuna) (6.0)\n",
      "Collecting Mako (from alembic>=1.5.0->optuna)\n",
      "  Downloading Mako-1.2.4-py3-none-any.whl (78 kB)\n",
      "\u001b[2K     \u001b[90m━━━━━━━━━━━━━━━━━━━━━━━━━━━━━━━━━━━━━━━━\u001b[0m \u001b[32m78.7/78.7 kB\u001b[0m \u001b[31m8.2 MB/s\u001b[0m eta \u001b[36m0:00:00\u001b[0m\n",
      "\u001b[?25hRequirement already satisfied: typing-extensions>=4 in /usr/local/lib/python3.10/dist-packages (from alembic>=1.5.0->optuna) (4.6.3)\n",
      "Requirement already satisfied: greenlet!=0.4.17 in /usr/local/lib/python3.10/dist-packages (from sqlalchemy>=1.3.0->optuna) (2.0.2)\n",
      "Requirement already satisfied: MarkupSafe>=0.9.2 in /usr/local/lib/python3.10/dist-packages (from Mako->alembic>=1.5.0->optuna) (2.1.3)\n",
      "Installing collected packages: Mako, colorlog, cmaes, alembic, optuna\n",
      "Successfully installed Mako-1.2.4 alembic-1.11.1 cmaes-0.9.1 colorlog-6.7.0 optuna-3.2.0\n"
     ]
    }
   ],
   "source": [
    "\n",
    "pip install optuna"
   ]
  },
  {
   "cell_type": "code",
   "execution_count": 61,
   "metadata": {},
   "outputs": [],
   "source": [
    "import optuna\n",
    "from optuna.samplers import TPESampler\n",
    "\n",
    "import pandas as pd\n",
    "import numpy as np\n",
    "\n",
    "from sklearn.model_selection import train_test_split\n",
    "import lightgbm as lgb\n",
    "from sklearn.metrics import accuracy_score\n",
    "\n"
   ]
  },
  {
   "cell_type": "code",
   "execution_count": 62,
   "metadata": {},
   "outputs": [],
   "source": [
    "def objective(trial):\n",
    "    \"\"\"\n",
    "    Objective function to be minimized.\n",
    "    \"\"\"\n",
    "    param = {\n",
    "        \"objective\": \"multiclass\",\n",
    "        \"metric\": \"multi_logloss\",\n",
    "        \"verbosity\": -1,\n",
    "        \"boosting_type\": \"gbdt\",\n",
    "        \"num_class\": 5,\n",
    "        \"n_estimators\": trial.suggest_int(\"n_estimators\", 20, 90),\n",
    "        \"lambda_l1\": trial.suggest_float(\"lambda_l1\", 1e-2, 5.0, log=True),\n",
    "        \"lambda_l2\": trial.suggest_float(\"lambda_l2\", 1e-2, 5.0, log=True),\n",
    "        \"num_leaves\": trial.suggest_int(\"num_leaves\", 20, 50),\n",
    "        \"feature_fraction\": trial.suggest_float(\"feature_fraction\", 0.4, 1.0),\n",
    "        \"bagging_fraction\": trial.suggest_float(\"bagging_fraction\", 0.4, 1.0),\n",
    "        \"bagging_freq\": trial.suggest_int(\"bagging_freq\", 1, 7),\n",
    "        'learning_rate': trial.suggest_float(\"learning_rate\", 0.04, 0.1),\n",
    "        \"min_child_samples\": trial.suggest_int(\"min_child_samples\", 5, 100),\n",
    "    }\n",
    "\n",
    "    \n",
    "    gbm = lgb.LGBMClassifier(**param)\n",
    "    gbm.fit(X_train_new, y_train)\n",
    "    preds = gbm.predict(X_test_new)\n",
    "    accuracy = accuracy_score(y_test, preds)\n",
    "    return accuracy"
   ]
  },
  {
   "cell_type": "code",
   "execution_count": 63,
   "metadata": {},
   "outputs": [
    {
     "name": "stderr",
     "output_type": "stream",
     "text": [
      "[I 2023-07-06 02:38:46,456] A new study created in memory with name: lightgbm\n"
     ]
    },
    {
     "name": "stdout",
     "output_type": "stream",
     "text": [
      "[LightGBM] [Warning] feature_fraction is set=0.48805353449026784, colsample_bytree=1.0 will be ignored. Current value: feature_fraction=0.48805353449026784\n",
      "[LightGBM] [Warning] bagging_freq is set=2, subsample_freq=0 will be ignored. Current value: bagging_freq=2\n",
      "[LightGBM] [Warning] lambda_l2 is set=0.010007110473405195, reg_lambda=0.0 will be ignored. Current value: lambda_l2=0.010007110473405195\n",
      "[LightGBM] [Warning] bagging_fraction is set=0.4554031568612787, subsample=1.0 will be ignored. Current value: bagging_fraction=0.4554031568612787\n",
      "[LightGBM] [Warning] lambda_l1 is set=0.879294185249291, reg_alpha=0.0 will be ignored. Current value: lambda_l1=0.879294185249291\n"
     ]
    },
    {
     "name": "stderr",
     "output_type": "stream",
     "text": [
      "[I 2023-07-06 02:38:47,231] Trial 0 finished with value: 0.8501440922190202 and parameters: {'n_estimators': 49, 'lambda_l1': 0.879294185249291, 'lambda_l2': 0.010007110473405195, 'num_leaves': 29, 'feature_fraction': 0.48805353449026784, 'bagging_fraction': 0.4554031568612787, 'bagging_freq': 2, 'learning_rate': 0.060733643622582864, 'min_child_samples': 43}. Best is trial 0 with value: 0.8501440922190202.\n"
     ]
    },
    {
     "name": "stdout",
     "output_type": "stream",
     "text": [
      "[LightGBM] [Warning] feature_fraction is set=0.9268704618345672, colsample_bytree=1.0 will be ignored. Current value: feature_fraction=0.9268704618345672\n",
      "[LightGBM] [Warning] bagging_freq is set=5, subsample_freq=0 will be ignored. Current value: bagging_freq=5\n",
      "[LightGBM] [Warning] lambda_l2 is set=0.7069470359901728, reg_lambda=0.0 will be ignored. Current value: lambda_l2=0.7069470359901728\n",
      "[LightGBM] [Warning] bagging_fraction is set=0.4164325559187557, subsample=1.0 will be ignored. Current value: bagging_fraction=0.4164325559187557\n",
      "[LightGBM] [Warning] lambda_l1 is set=0.1353297938831623, reg_alpha=0.0 will be ignored. Current value: lambda_l1=0.1353297938831623\n"
     ]
    },
    {
     "name": "stderr",
     "output_type": "stream",
     "text": [
      "[I 2023-07-06 02:38:49,004] Trial 1 finished with value: 0.8501440922190202 and parameters: {'n_estimators': 58, 'lambda_l1': 0.1353297938831623, 'lambda_l2': 0.7069470359901728, 'num_leaves': 26, 'feature_fraction': 0.9268704618345672, 'bagging_fraction': 0.4164325559187557, 'bagging_freq': 5, 'learning_rate': 0.06503828814202763, 'min_child_samples': 58}. Best is trial 0 with value: 0.8501440922190202.\n"
     ]
    },
    {
     "name": "stdout",
     "output_type": "stream",
     "text": [
      "[LightGBM] [Warning] feature_fraction is set=0.5880545068955457, colsample_bytree=1.0 will be ignored. Current value: feature_fraction=0.5880545068955457\n",
      "[LightGBM] [Warning] bagging_freq is set=7, subsample_freq=0 will be ignored. Current value: bagging_freq=7\n",
      "[LightGBM] [Warning] lambda_l2 is set=1.4493910392244416, reg_lambda=0.0 will be ignored. Current value: lambda_l2=1.4493910392244416\n",
      "[LightGBM] [Warning] bagging_fraction is set=0.8153935694015885, subsample=1.0 will be ignored. Current value: bagging_fraction=0.8153935694015885\n",
      "[LightGBM] [Warning] lambda_l1 is set=0.034250741406204634, reg_alpha=0.0 will be ignored. Current value: lambda_l1=0.034250741406204634\n"
     ]
    },
    {
     "name": "stderr",
     "output_type": "stream",
     "text": [
      "[I 2023-07-06 02:38:51,131] Trial 2 finished with value: 0.8731988472622478 and parameters: {'n_estimators': 29, 'lambda_l1': 0.034250741406204634, 'lambda_l2': 1.4493910392244416, 'num_leaves': 50, 'feature_fraction': 0.5880545068955457, 'bagging_fraction': 0.8153935694015885, 'bagging_freq': 7, 'learning_rate': 0.09367639981023085, 'min_child_samples': 13}. Best is trial 2 with value: 0.8731988472622478.\n"
     ]
    },
    {
     "name": "stdout",
     "output_type": "stream",
     "text": [
      "[LightGBM] [Warning] feature_fraction is set=0.6526645750030313, colsample_bytree=1.0 will be ignored. Current value: feature_fraction=0.6526645750030313\n",
      "[LightGBM] [Warning] bagging_freq is set=4, subsample_freq=0 will be ignored. Current value: bagging_freq=4\n",
      "[LightGBM] [Warning] lambda_l2 is set=2.3446621696223424, reg_lambda=0.0 will be ignored. Current value: lambda_l2=2.3446621696223424\n",
      "[LightGBM] [Warning] bagging_fraction is set=0.9747337180903012, subsample=1.0 will be ignored. Current value: bagging_fraction=0.9747337180903012\n",
      "[LightGBM] [Warning] lambda_l1 is set=0.02873208934418634, reg_alpha=0.0 will be ignored. Current value: lambda_l1=0.02873208934418634\n"
     ]
    },
    {
     "name": "stderr",
     "output_type": "stream",
     "text": [
      "[I 2023-07-06 02:38:52,272] Trial 3 finished with value: 0.8703170028818443 and parameters: {'n_estimators': 22, 'lambda_l1': 0.02873208934418634, 'lambda_l2': 2.3446621696223424, 'num_leaves': 23, 'feature_fraction': 0.6526645750030313, 'bagging_fraction': 0.9747337180903012, 'bagging_freq': 4, 'learning_rate': 0.0815126268370284, 'min_child_samples': 35}. Best is trial 2 with value: 0.8731988472622478.\n"
     ]
    },
    {
     "name": "stdout",
     "output_type": "stream",
     "text": [
      "[LightGBM] [Warning] feature_fraction is set=0.9933166533438968, colsample_bytree=1.0 will be ignored. Current value: feature_fraction=0.9933166533438968\n",
      "[LightGBM] [Warning] bagging_freq is set=2, subsample_freq=0 will be ignored. Current value: bagging_freq=2\n",
      "[LightGBM] [Warning] lambda_l2 is set=0.011203649455690875, reg_lambda=0.0 will be ignored. Current value: lambda_l2=0.011203649455690875\n",
      "[LightGBM] [Warning] bagging_fraction is set=0.8488993926279036, subsample=1.0 will be ignored. Current value: bagging_fraction=0.8488993926279036\n",
      "[LightGBM] [Warning] lambda_l1 is set=1.7890795571852476, reg_alpha=0.0 will be ignored. Current value: lambda_l1=1.7890795571852476\n"
     ]
    },
    {
     "name": "stderr",
     "output_type": "stream",
     "text": [
      "[I 2023-07-06 02:38:55,576] Trial 4 finished with value: 0.8760806916426513 and parameters: {'n_estimators': 68, 'lambda_l1': 1.7890795571852476, 'lambda_l2': 0.011203649455690875, 'num_leaves': 43, 'feature_fraction': 0.9933166533438968, 'bagging_fraction': 0.8488993926279036, 'bagging_freq': 2, 'learning_rate': 0.08735675970708931, 'min_child_samples': 14}. Best is trial 4 with value: 0.8760806916426513.\n"
     ]
    },
    {
     "name": "stdout",
     "output_type": "stream",
     "text": [
      "[LightGBM] [Warning] feature_fraction is set=0.4780171432709666, colsample_bytree=1.0 will be ignored. Current value: feature_fraction=0.4780171432709666\n",
      "[LightGBM] [Warning] bagging_freq is set=5, subsample_freq=0 will be ignored. Current value: bagging_freq=5\n",
      "[LightGBM] [Warning] lambda_l2 is set=0.062009150154225985, reg_lambda=0.0 will be ignored. Current value: lambda_l2=0.062009150154225985\n",
      "[LightGBM] [Warning] bagging_fraction is set=0.41162017472217827, subsample=1.0 will be ignored. Current value: bagging_fraction=0.41162017472217827\n",
      "[LightGBM] [Warning] lambda_l1 is set=2.8331659191517997, reg_alpha=0.0 will be ignored. Current value: lambda_l1=2.8331659191517997\n"
     ]
    },
    {
     "name": "stderr",
     "output_type": "stream",
     "text": [
      "[I 2023-07-06 02:38:56,235] Trial 5 finished with value: 0.8386167146974063 and parameters: {'n_estimators': 51, 'lambda_l1': 2.8331659191517997, 'lambda_l2': 0.062009150154225985, 'num_leaves': 28, 'feature_fraction': 0.4780171432709666, 'bagging_fraction': 0.41162017472217827, 'bagging_freq': 5, 'learning_rate': 0.05269768696000354, 'min_child_samples': 30}. Best is trial 4 with value: 0.8760806916426513.\n"
     ]
    },
    {
     "name": "stdout",
     "output_type": "stream",
     "text": [
      "[LightGBM] [Warning] feature_fraction is set=0.7535833221419705, colsample_bytree=1.0 will be ignored. Current value: feature_fraction=0.7535833221419705\n",
      "[LightGBM] [Warning] bagging_freq is set=1, subsample_freq=0 will be ignored. Current value: bagging_freq=1\n",
      "[LightGBM] [Warning] lambda_l2 is set=0.35442650826863986, reg_lambda=0.0 will be ignored. Current value: lambda_l2=0.35442650826863986\n",
      "[LightGBM] [Warning] bagging_fraction is set=0.8198550160125587, subsample=1.0 will be ignored. Current value: bagging_fraction=0.8198550160125587\n",
      "[LightGBM] [Warning] lambda_l1 is set=0.013932335006314283, reg_alpha=0.0 will be ignored. Current value: lambda_l1=0.013932335006314283\n"
     ]
    },
    {
     "name": "stderr",
     "output_type": "stream",
     "text": [
      "[I 2023-07-06 02:38:57,834] Trial 6 finished with value: 0.8559077809798271 and parameters: {'n_estimators': 54, 'lambda_l1': 0.013932335006314283, 'lambda_l2': 0.35442650826863986, 'num_leaves': 24, 'feature_fraction': 0.7535833221419705, 'bagging_fraction': 0.8198550160125587, 'bagging_freq': 1, 'learning_rate': 0.0648433592691741, 'min_child_samples': 71}. Best is trial 4 with value: 0.8760806916426513.\n"
     ]
    },
    {
     "name": "stdout",
     "output_type": "stream",
     "text": [
      "[LightGBM] [Warning] feature_fraction is set=0.7089334672349852, colsample_bytree=1.0 will be ignored. Current value: feature_fraction=0.7089334672349852\n",
      "[LightGBM] [Warning] bagging_freq is set=5, subsample_freq=0 will be ignored. Current value: bagging_freq=5\n",
      "[LightGBM] [Warning] lambda_l2 is set=0.27949132012721856, reg_lambda=0.0 will be ignored. Current value: lambda_l2=0.27949132012721856\n",
      "[LightGBM] [Warning] bagging_fraction is set=0.966756853594488, subsample=1.0 will be ignored. Current value: bagging_fraction=0.966756853594488\n",
      "[LightGBM] [Warning] lambda_l1 is set=0.01364026749788079, reg_alpha=0.0 will be ignored. Current value: lambda_l1=0.01364026749788079\n"
     ]
    },
    {
     "name": "stderr",
     "output_type": "stream",
     "text": [
      "[I 2023-07-06 02:39:01,362] Trial 7 finished with value: 0.8818443804034583 and parameters: {'n_estimators': 49, 'lambda_l1': 0.01364026749788079, 'lambda_l2': 0.27949132012721856, 'num_leaves': 40, 'feature_fraction': 0.7089334672349852, 'bagging_fraction': 0.966756853594488, 'bagging_freq': 5, 'learning_rate': 0.09420411491727301, 'min_child_samples': 18}. Best is trial 7 with value: 0.8818443804034583.\n"
     ]
    },
    {
     "name": "stdout",
     "output_type": "stream",
     "text": [
      "[LightGBM] [Warning] feature_fraction is set=0.9565051482376203, colsample_bytree=1.0 will be ignored. Current value: feature_fraction=0.9565051482376203\n",
      "[LightGBM] [Warning] bagging_freq is set=6, subsample_freq=0 will be ignored. Current value: bagging_freq=6\n",
      "[LightGBM] [Warning] lambda_l2 is set=0.11839077252754517, reg_lambda=0.0 will be ignored. Current value: lambda_l2=0.11839077252754517\n",
      "[LightGBM] [Warning] bagging_fraction is set=0.6086595158473039, subsample=1.0 will be ignored. Current value: bagging_fraction=0.6086595158473039\n",
      "[LightGBM] [Warning] lambda_l1 is set=1.510514400536787, reg_alpha=0.0 will be ignored. Current value: lambda_l1=1.510514400536787\n"
     ]
    },
    {
     "name": "stderr",
     "output_type": "stream",
     "text": [
      "[I 2023-07-06 02:39:01,917] Trial 8 finished with value: 0.8242074927953891 and parameters: {'n_estimators': 29, 'lambda_l1': 1.510514400536787, 'lambda_l2': 0.11839077252754517, 'num_leaves': 25, 'feature_fraction': 0.9565051482376203, 'bagging_fraction': 0.6086595158473039, 'bagging_freq': 6, 'learning_rate': 0.0835598791210271, 'min_child_samples': 89}. Best is trial 7 with value: 0.8818443804034583.\n"
     ]
    },
    {
     "name": "stdout",
     "output_type": "stream",
     "text": [
      "[LightGBM] [Warning] feature_fraction is set=0.9375317309176401, colsample_bytree=1.0 will be ignored. Current value: feature_fraction=0.9375317309176401\n",
      "[LightGBM] [Warning] bagging_freq is set=7, subsample_freq=0 will be ignored. Current value: bagging_freq=7\n",
      "[LightGBM] [Warning] lambda_l2 is set=0.08743114371278075, reg_lambda=0.0 will be ignored. Current value: lambda_l2=0.08743114371278075\n",
      "[LightGBM] [Warning] bagging_fraction is set=0.656854713922777, subsample=1.0 will be ignored. Current value: bagging_fraction=0.656854713922777\n",
      "[LightGBM] [Warning] lambda_l1 is set=1.0635823077784037, reg_alpha=0.0 will be ignored. Current value: lambda_l1=1.0635823077784037\n"
     ]
    },
    {
     "name": "stderr",
     "output_type": "stream",
     "text": [
      "[I 2023-07-06 02:39:03,532] Trial 9 finished with value: 0.861671469740634 and parameters: {'n_estimators': 64, 'lambda_l1': 1.0635823077784037, 'lambda_l2': 0.08743114371278075, 'num_leaves': 28, 'feature_fraction': 0.9375317309176401, 'bagging_fraction': 0.656854713922777, 'bagging_freq': 7, 'learning_rate': 0.07980648986910689, 'min_child_samples': 64}. Best is trial 7 with value: 0.8818443804034583.\n"
     ]
    },
    {
     "name": "stdout",
     "output_type": "stream",
     "text": [
      "[LightGBM] [Warning] feature_fraction is set=0.7571650099530449, colsample_bytree=1.0 will be ignored. Current value: feature_fraction=0.7571650099530449\n",
      "[LightGBM] [Warning] bagging_freq is set=4, subsample_freq=0 will be ignored. Current value: bagging_freq=4\n",
      "[LightGBM] [Warning] lambda_l2 is set=4.077848194578335, reg_lambda=0.0 will be ignored. Current value: lambda_l2=4.077848194578335\n",
      "[LightGBM] [Warning] bagging_fraction is set=0.9906129642605365, subsample=1.0 will be ignored. Current value: bagging_fraction=0.9906129642605365\n",
      "[LightGBM] [Warning] lambda_l1 is set=0.12917970593385644, reg_alpha=0.0 will be ignored. Current value: lambda_l1=0.12917970593385644\n"
     ]
    },
    {
     "name": "stderr",
     "output_type": "stream",
     "text": [
      "[I 2023-07-06 02:39:12,505] Trial 10 finished with value: 0.8818443804034583 and parameters: {'n_estimators': 88, 'lambda_l1': 0.12917970593385644, 'lambda_l2': 4.077848194578335, 'num_leaves': 37, 'feature_fraction': 0.7571650099530449, 'bagging_fraction': 0.9906129642605365, 'bagging_freq': 4, 'learning_rate': 0.09960342209942992, 'min_child_samples': 6}. Best is trial 7 with value: 0.8818443804034583.\n"
     ]
    },
    {
     "name": "stdout",
     "output_type": "stream",
     "text": [
      "[LightGBM] [Warning] feature_fraction is set=0.7989757302401864, colsample_bytree=1.0 will be ignored. Current value: feature_fraction=0.7989757302401864\n",
      "[LightGBM] [Warning] bagging_freq is set=4, subsample_freq=0 will be ignored. Current value: bagging_freq=4\n",
      "[LightGBM] [Warning] lambda_l2 is set=3.7163834336893617, reg_lambda=0.0 will be ignored. Current value: lambda_l2=3.7163834336893617\n",
      "[LightGBM] [Warning] bagging_fraction is set=0.9562213553008407, subsample=1.0 will be ignored. Current value: bagging_fraction=0.9562213553008407\n",
      "[LightGBM] [Warning] lambda_l1 is set=0.13346396119459825, reg_alpha=0.0 will be ignored. Current value: lambda_l1=0.13346396119459825\n"
     ]
    },
    {
     "name": "stderr",
     "output_type": "stream",
     "text": [
      "[I 2023-07-06 02:39:18,488] Trial 11 finished with value: 0.8789625360230547 and parameters: {'n_estimators': 90, 'lambda_l1': 0.13346396119459825, 'lambda_l2': 3.7163834336893617, 'num_leaves': 37, 'feature_fraction': 0.7989757302401864, 'bagging_fraction': 0.9562213553008407, 'bagging_freq': 4, 'learning_rate': 0.09778565289520282, 'min_child_samples': 9}. Best is trial 7 with value: 0.8818443804034583.\n"
     ]
    },
    {
     "name": "stdout",
     "output_type": "stream",
     "text": [
      "[LightGBM] [Warning] feature_fraction is set=0.7827451970976227, colsample_bytree=1.0 will be ignored. Current value: feature_fraction=0.7827451970976227\n",
      "[LightGBM] [Warning] bagging_freq is set=3, subsample_freq=0 will be ignored. Current value: bagging_freq=3\n",
      "[LightGBM] [Warning] lambda_l2 is set=4.2105515010394745, reg_lambda=0.0 will be ignored. Current value: lambda_l2=4.2105515010394745\n",
      "[LightGBM] [Warning] bagging_fraction is set=0.9812730229091897, subsample=1.0 will be ignored. Current value: bagging_fraction=0.9812730229091897\n",
      "[LightGBM] [Warning] lambda_l1 is set=0.010532138899417164, reg_alpha=0.0 will be ignored. Current value: lambda_l1=0.010532138899417164\n"
     ]
    },
    {
     "name": "stderr",
     "output_type": "stream",
     "text": [
      "[I 2023-07-06 02:39:23,194] Trial 12 finished with value: 0.8789625360230547 and parameters: {'n_estimators': 90, 'lambda_l1': 0.010532138899417164, 'lambda_l2': 4.2105515010394745, 'num_leaves': 38, 'feature_fraction': 0.7827451970976227, 'bagging_fraction': 0.9812730229091897, 'bagging_freq': 3, 'learning_rate': 0.09832861273531904, 'min_child_samples': 25}. Best is trial 7 with value: 0.8818443804034583.\n"
     ]
    },
    {
     "name": "stdout",
     "output_type": "stream",
     "text": [
      "[LightGBM] [Warning] feature_fraction is set=0.6623423165510018, colsample_bytree=1.0 will be ignored. Current value: feature_fraction=0.6623423165510018\n",
      "[LightGBM] [Warning] bagging_freq is set=5, subsample_freq=0 will be ignored. Current value: bagging_freq=5\n",
      "[LightGBM] [Warning] lambda_l2 is set=0.808015866492636, reg_lambda=0.0 will be ignored. Current value: lambda_l2=0.808015866492636\n",
      "[LightGBM] [Warning] bagging_fraction is set=0.8902288478379407, subsample=1.0 will be ignored. Current value: bagging_fraction=0.8902288478379407\n",
      "[LightGBM] [Warning] lambda_l1 is set=0.27239157168631656, reg_alpha=0.0 will be ignored. Current value: lambda_l1=0.27239157168631656\n"
     ]
    },
    {
     "name": "stderr",
     "output_type": "stream",
     "text": [
      "[I 2023-07-06 02:39:29,573] Trial 13 finished with value: 0.8818443804034583 and parameters: {'n_estimators': 76, 'lambda_l1': 0.27239157168631656, 'lambda_l2': 0.808015866492636, 'num_leaves': 43, 'feature_fraction': 0.6623423165510018, 'bagging_fraction': 0.8902288478379407, 'bagging_freq': 5, 'learning_rate': 0.08981882970763047, 'min_child_samples': 6}. Best is trial 7 with value: 0.8818443804034583.\n"
     ]
    },
    {
     "name": "stdout",
     "output_type": "stream",
     "text": [
      "[LightGBM] [Warning] feature_fraction is set=0.8256242530913764, colsample_bytree=1.0 will be ignored. Current value: feature_fraction=0.8256242530913764\n",
      "[LightGBM] [Warning] bagging_freq is set=3, subsample_freq=0 will be ignored. Current value: bagging_freq=3\n",
      "[LightGBM] [Warning] lambda_l2 is set=1.8266591621558763, reg_lambda=0.0 will be ignored. Current value: lambda_l2=1.8266591621558763\n",
      "[LightGBM] [Warning] bagging_fraction is set=0.9030872285178855, subsample=1.0 will be ignored. Current value: bagging_fraction=0.9030872285178855\n",
      "[LightGBM] [Warning] lambda_l1 is set=0.049148437664035254, reg_alpha=0.0 will be ignored. Current value: lambda_l1=0.049148437664035254\n"
     ]
    },
    {
     "name": "stderr",
     "output_type": "stream",
     "text": [
      "[I 2023-07-06 02:39:32,823] Trial 14 finished with value: 0.8847262247838616 and parameters: {'n_estimators': 41, 'lambda_l1': 0.049148437664035254, 'lambda_l2': 1.8266591621558763, 'num_leaves': 33, 'feature_fraction': 0.8256242530913764, 'bagging_fraction': 0.9030872285178855, 'bagging_freq': 3, 'learning_rate': 0.09934154462012913, 'min_child_samples': 23}. Best is trial 14 with value: 0.8847262247838616.\n"
     ]
    },
    {
     "name": "stdout",
     "output_type": "stream",
     "text": [
      "[LightGBM] [Warning] feature_fraction is set=0.8408168710218928, colsample_bytree=1.0 will be ignored. Current value: feature_fraction=0.8408168710218928\n",
      "[LightGBM] [Warning] bagging_freq is set=3, subsample_freq=0 will be ignored. Current value: bagging_freq=3\n",
      "[LightGBM] [Warning] lambda_l2 is set=0.3301686074541195, reg_lambda=0.0 will be ignored. Current value: lambda_l2=0.3301686074541195\n",
      "[LightGBM] [Warning] bagging_fraction is set=0.7568433539278518, subsample=1.0 will be ignored. Current value: bagging_fraction=0.7568433539278518\n",
      "[LightGBM] [Warning] lambda_l1 is set=0.03733026653700398, reg_alpha=0.0 will be ignored. Current value: lambda_l1=0.03733026653700398\n"
     ]
    },
    {
     "name": "stderr",
     "output_type": "stream",
     "text": [
      "[I 2023-07-06 02:39:35,394] Trial 15 finished with value: 0.8645533141210374 and parameters: {'n_estimators': 41, 'lambda_l1': 0.03733026653700398, 'lambda_l2': 0.3301686074541195, 'num_leaves': 34, 'feature_fraction': 0.8408168710218928, 'bagging_fraction': 0.7568433539278518, 'bagging_freq': 3, 'learning_rate': 0.07676411896888069, 'min_child_samples': 45}. Best is trial 14 with value: 0.8847262247838616.\n"
     ]
    },
    {
     "name": "stdout",
     "output_type": "stream",
     "text": [
      "[LightGBM] [Warning] feature_fraction is set=0.8575083045730899, colsample_bytree=1.0 will be ignored. Current value: feature_fraction=0.8575083045730899\n",
      "[LightGBM] [Warning] bagging_freq is set=3, subsample_freq=0 will be ignored. Current value: bagging_freq=3\n",
      "[LightGBM] [Warning] lambda_l2 is set=1.5302519296549573, reg_lambda=0.0 will be ignored. Current value: lambda_l2=1.5302519296549573\n",
      "[LightGBM] [Warning] bagging_fraction is set=0.8917952814126102, subsample=1.0 will be ignored. Current value: bagging_fraction=0.8917952814126102\n",
      "[LightGBM] [Warning] lambda_l1 is set=0.05952829530396582, reg_alpha=0.0 will be ignored. Current value: lambda_l1=0.05952829530396582\n"
     ]
    },
    {
     "name": "stderr",
     "output_type": "stream",
     "text": [
      "[I 2023-07-06 02:39:37,940] Trial 16 finished with value: 0.8703170028818443 and parameters: {'n_estimators': 41, 'lambda_l1': 0.05952829530396582, 'lambda_l2': 1.5302519296549573, 'num_leaves': 32, 'feature_fraction': 0.8575083045730899, 'bagging_fraction': 0.8917952814126102, 'bagging_freq': 3, 'learning_rate': 0.0907495760051073, 'min_child_samples': 26}. Best is trial 14 with value: 0.8847262247838616.\n"
     ]
    },
    {
     "name": "stdout",
     "output_type": "stream",
     "text": [
      "[LightGBM] [Warning] feature_fraction is set=0.7146406171339541, colsample_bytree=1.0 will be ignored. Current value: feature_fraction=0.7146406171339541\n",
      "[LightGBM] [Warning] bagging_freq is set=6, subsample_freq=0 will be ignored. Current value: bagging_freq=6\n",
      "[LightGBM] [Warning] lambda_l2 is set=0.6750097622848942, reg_lambda=0.0 will be ignored. Current value: lambda_l2=0.6750097622848942\n",
      "[LightGBM] [Warning] bagging_fraction is set=0.9157268507849452, subsample=1.0 will be ignored. Current value: bagging_fraction=0.9157268507849452\n",
      "[LightGBM] [Warning] lambda_l1 is set=0.016648647173036518, reg_alpha=0.0 will be ignored. Current value: lambda_l1=0.016648647173036518\n"
     ]
    },
    {
     "name": "stderr",
     "output_type": "stream",
     "text": [
      "[I 2023-07-06 02:39:41,370] Trial 17 finished with value: 0.8703170028818443 and parameters: {'n_estimators': 40, 'lambda_l1': 0.016648647173036518, 'lambda_l2': 0.6750097622848942, 'num_leaves': 42, 'feature_fraction': 0.7146406171339541, 'bagging_fraction': 0.9157268507849452, 'bagging_freq': 6, 'learning_rate': 0.0753218952601706, 'min_child_samples': 21}. Best is trial 14 with value: 0.8847262247838616.\n"
     ]
    },
    {
     "name": "stdout",
     "output_type": "stream",
     "text": [
      "[LightGBM] [Warning] feature_fraction is set=0.8811471032245974, colsample_bytree=1.0 will be ignored. Current value: feature_fraction=0.8811471032245974\n",
      "[LightGBM] [Warning] bagging_freq is set=1, subsample_freq=0 will be ignored. Current value: bagging_freq=1\n",
      "[LightGBM] [Warning] lambda_l2 is set=0.21099779135825067, reg_lambda=0.0 will be ignored. Current value: lambda_l2=0.21099779135825067\n",
      "[LightGBM] [Warning] bagging_fraction is set=0.7784326966195179, subsample=1.0 will be ignored. Current value: bagging_fraction=0.7784326966195179\n",
      "[LightGBM] [Warning] lambda_l1 is set=0.02038096196411651, reg_alpha=0.0 will be ignored. Current value: lambda_l1=0.02038096196411651\n"
     ]
    },
    {
     "name": "stderr",
     "output_type": "stream",
     "text": [
      "[I 2023-07-06 02:39:43,944] Trial 18 finished with value: 0.8731988472622478 and parameters: {'n_estimators': 33, 'lambda_l1': 0.02038096196411651, 'lambda_l2': 0.21099779135825067, 'num_leaves': 20, 'feature_fraction': 0.8811471032245974, 'bagging_fraction': 0.7784326966195179, 'bagging_freq': 1, 'learning_rate': 0.08687674194094719, 'min_child_samples': 37}. Best is trial 14 with value: 0.8847262247838616.\n"
     ]
    },
    {
     "name": "stdout",
     "output_type": "stream",
     "text": [
      "[LightGBM] [Warning] feature_fraction is set=0.5881978503812422, colsample_bytree=1.0 will be ignored. Current value: feature_fraction=0.5881978503812422\n",
      "[LightGBM] [Warning] bagging_freq is set=6, subsample_freq=0 will be ignored. Current value: bagging_freq=6\n",
      "[LightGBM] [Warning] lambda_l2 is set=1.5986778247844013, reg_lambda=0.0 will be ignored. Current value: lambda_l2=1.5986778247844013\n",
      "[LightGBM] [Warning] bagging_fraction is set=0.9198759476179553, subsample=1.0 will be ignored. Current value: bagging_fraction=0.9198759476179553\n",
      "[LightGBM] [Warning] lambda_l1 is set=0.01004129209202005, reg_alpha=0.0 will be ignored. Current value: lambda_l1=0.01004129209202005\n"
     ]
    },
    {
     "name": "stderr",
     "output_type": "stream",
     "text": [
      "[I 2023-07-06 02:39:45,209] Trial 19 finished with value: 0.8645533141210374 and parameters: {'n_estimators': 46, 'lambda_l1': 0.01004129209202005, 'lambda_l2': 1.5986778247844013, 'num_leaves': 48, 'feature_fraction': 0.5881978503812422, 'bagging_fraction': 0.9198759476179553, 'bagging_freq': 6, 'learning_rate': 0.09407536572439132, 'min_child_samples': 99}. Best is trial 14 with value: 0.8847262247838616.\n"
     ]
    }
   ],
   "source": [
    "sampler = TPESampler(seed=1)\n",
    "study = optuna.create_study(study_name=\"lightgbm\", direction=\"maximize\", sampler=sampler)\n",
    "study.optimize(objective, n_trials=20)\n"
   ]
  },
  {
   "cell_type": "code",
   "execution_count": 64,
   "metadata": {},
   "outputs": [
    {
     "name": "stdout",
     "output_type": "stream",
     "text": [
      "Best parameters: {'n_estimators': 41, 'lambda_l1': 0.049148437664035254, 'lambda_l2': 1.8266591621558763, 'num_leaves': 33, 'feature_fraction': 0.8256242530913764, 'bagging_fraction': 0.9030872285178855, 'bagging_freq': 3, 'learning_rate': 0.09934154462012913, 'min_child_samples': 23}\n"
     ]
    }
   ],
   "source": [
    "print('Best parameters:', study.best_params)"
   ]
  },
  {
   "cell_type": "code",
   "execution_count": 65,
   "metadata": {},
   "outputs": [
    {
     "name": "stdout",
     "output_type": "stream",
     "text": [
      "[LightGBM] [Warning] lambda_l1 is set=0.049148437664035254, reg_alpha=0.0 will be ignored. Current value: lambda_l1=0.049148437664035254\n",
      "[LightGBM] [Warning] bagging_fraction is set=0.9030872285178855, subsample=1.0 will be ignored. Current value: bagging_fraction=0.9030872285178855\n",
      "[LightGBM] [Warning] lambda_l2 is set=1.8266591621558763, reg_lambda=0.0 will be ignored. Current value: lambda_l2=1.8266591621558763\n",
      "[LightGBM] [Warning] feature_fraction is set=0.8256242530913764, colsample_bytree=1.0 will be ignored. Current value: feature_fraction=0.8256242530913764\n",
      "[LightGBM] [Warning] bagging_freq is set=3, subsample_freq=0 will be ignored. Current value: bagging_freq=3\n"
     ]
    },
    {
     "data": {
      "text/html": [
       "<style>#sk-container-id-1 {color: black;background-color: white;}#sk-container-id-1 pre{padding: 0;}#sk-container-id-1 div.sk-toggleable {background-color: white;}#sk-container-id-1 label.sk-toggleable__label {cursor: pointer;display: block;width: 100%;margin-bottom: 0;padding: 0.3em;box-sizing: border-box;text-align: center;}#sk-container-id-1 label.sk-toggleable__label-arrow:before {content: \"▸\";float: left;margin-right: 0.25em;color: #696969;}#sk-container-id-1 label.sk-toggleable__label-arrow:hover:before {color: black;}#sk-container-id-1 div.sk-estimator:hover label.sk-toggleable__label-arrow:before {color: black;}#sk-container-id-1 div.sk-toggleable__content {max-height: 0;max-width: 0;overflow: hidden;text-align: left;background-color: #f0f8ff;}#sk-container-id-1 div.sk-toggleable__content pre {margin: 0.2em;color: black;border-radius: 0.25em;background-color: #f0f8ff;}#sk-container-id-1 input.sk-toggleable__control:checked~div.sk-toggleable__content {max-height: 200px;max-width: 100%;overflow: auto;}#sk-container-id-1 input.sk-toggleable__control:checked~label.sk-toggleable__label-arrow:before {content: \"▾\";}#sk-container-id-1 div.sk-estimator input.sk-toggleable__control:checked~label.sk-toggleable__label {background-color: #d4ebff;}#sk-container-id-1 div.sk-label input.sk-toggleable__control:checked~label.sk-toggleable__label {background-color: #d4ebff;}#sk-container-id-1 input.sk-hidden--visually {border: 0;clip: rect(1px 1px 1px 1px);clip: rect(1px, 1px, 1px, 1px);height: 1px;margin: -1px;overflow: hidden;padding: 0;position: absolute;width: 1px;}#sk-container-id-1 div.sk-estimator {font-family: monospace;background-color: #f0f8ff;border: 1px dotted black;border-radius: 0.25em;box-sizing: border-box;margin-bottom: 0.5em;}#sk-container-id-1 div.sk-estimator:hover {background-color: #d4ebff;}#sk-container-id-1 div.sk-parallel-item::after {content: \"\";width: 100%;border-bottom: 1px solid gray;flex-grow: 1;}#sk-container-id-1 div.sk-label:hover label.sk-toggleable__label {background-color: #d4ebff;}#sk-container-id-1 div.sk-serial::before {content: \"\";position: absolute;border-left: 1px solid gray;box-sizing: border-box;top: 0;bottom: 0;left: 50%;z-index: 0;}#sk-container-id-1 div.sk-serial {display: flex;flex-direction: column;align-items: center;background-color: white;padding-right: 0.2em;padding-left: 0.2em;position: relative;}#sk-container-id-1 div.sk-item {position: relative;z-index: 1;}#sk-container-id-1 div.sk-parallel {display: flex;align-items: stretch;justify-content: center;background-color: white;position: relative;}#sk-container-id-1 div.sk-item::before, #sk-container-id-1 div.sk-parallel-item::before {content: \"\";position: absolute;border-left: 1px solid gray;box-sizing: border-box;top: 0;bottom: 0;left: 50%;z-index: -1;}#sk-container-id-1 div.sk-parallel-item {display: flex;flex-direction: column;z-index: 1;position: relative;background-color: white;}#sk-container-id-1 div.sk-parallel-item:first-child::after {align-self: flex-end;width: 50%;}#sk-container-id-1 div.sk-parallel-item:last-child::after {align-self: flex-start;width: 50%;}#sk-container-id-1 div.sk-parallel-item:only-child::after {width: 0;}#sk-container-id-1 div.sk-dashed-wrapped {border: 1px dashed gray;margin: 0 0.4em 0.5em 0.4em;box-sizing: border-box;padding-bottom: 0.4em;background-color: white;}#sk-container-id-1 div.sk-label label {font-family: monospace;font-weight: bold;display: inline-block;line-height: 1.2em;}#sk-container-id-1 div.sk-label-container {text-align: center;}#sk-container-id-1 div.sk-container {/* jupyter's `normalize.less` sets `[hidden] { display: none; }` but bootstrap.min.css set `[hidden] { display: none !important; }` so we also need the `!important` here to be able to override the default hidden behavior on the sphinx rendered scikit-learn.org. See: https://github.com/scikit-learn/scikit-learn/issues/21755 */display: inline-block !important;position: relative;}#sk-container-id-1 div.sk-text-repr-fallback {display: none;}</style><div id=\"sk-container-id-1\" class=\"sk-top-container\"><div class=\"sk-text-repr-fallback\"><pre>LGBMClassifier(bagging_fraction=0.9030872285178855, bagging_freq=3,\n",
       "               feature_fraction=0.8256242530913764,\n",
       "               lambda_l1=0.049148437664035254, lambda_l2=1.8266591621558763,\n",
       "               learning_rate=0.09934154462012913, min_child_samples=23,\n",
       "               n_estimators=41, num_leaves=33)</pre><b>In a Jupyter environment, please rerun this cell to show the HTML representation or trust the notebook. <br />On GitHub, the HTML representation is unable to render, please try loading this page with nbviewer.org.</b></div><div class=\"sk-container\" hidden><div class=\"sk-item\"><div class=\"sk-estimator sk-toggleable\"><input class=\"sk-toggleable__control sk-hidden--visually\" id=\"sk-estimator-id-1\" type=\"checkbox\" checked><label for=\"sk-estimator-id-1\" class=\"sk-toggleable__label sk-toggleable__label-arrow\">LGBMClassifier</label><div class=\"sk-toggleable__content\"><pre>LGBMClassifier(bagging_fraction=0.9030872285178855, bagging_freq=3,\n",
       "               feature_fraction=0.8256242530913764,\n",
       "               lambda_l1=0.049148437664035254, lambda_l2=1.8266591621558763,\n",
       "               learning_rate=0.09934154462012913, min_child_samples=23,\n",
       "               n_estimators=41, num_leaves=33)</pre></div></div></div></div></div>"
      ],
      "text/plain": [
       "LGBMClassifier(bagging_fraction=0.9030872285178855, bagging_freq=3,\n",
       "               feature_fraction=0.8256242530913764,\n",
       "               lambda_l1=0.049148437664035254, lambda_l2=1.8266591621558763,\n",
       "               learning_rate=0.09934154462012913, min_child_samples=23,\n",
       "               n_estimators=41, num_leaves=33)"
      ]
     },
     "execution_count": 65,
     "metadata": {},
     "output_type": "execute_result"
    }
   ],
   "source": [
    "mode = lgb.LGBMClassifier(**study.best_params)\n",
    "mode.fit(X_train_new, y_train)"
   ]
  },
  {
   "cell_type": "code",
   "execution_count": 66,
   "metadata": {},
   "outputs": [],
   "source": [
    "y_pred = mode.predict(X_test_new)\n"
   ]
  },
  {
   "cell_type": "code",
   "execution_count": 67,
   "metadata": {},
   "outputs": [
    {
     "name": "stdout",
     "output_type": "stream",
     "text": [
      "              precision    recall  f1-score   support\n",
      "\n",
      "           0       0.83      0.88      0.86        67\n",
      "           1       0.88      0.82      0.85        71\n",
      "           2       0.93      0.95      0.94        65\n",
      "           3       0.82      0.92      0.86        59\n",
      "           4       0.96      0.87      0.91        85\n",
      "\n",
      "    accuracy                           0.88       347\n",
      "   macro avg       0.88      0.89      0.88       347\n",
      "weighted avg       0.89      0.88      0.89       347\n",
      "\n"
     ]
    }
   ],
   "source": [
    "from sklearn.metrics import roc_auc_score, accuracy_score, f1_score, confusion_matrix, classification_report\n",
    "\n",
    "report = classification_report(y_test, y_pred)\n",
    "print(report)"
   ]
  },
  {
   "cell_type": "code",
   "execution_count": 68,
   "metadata": {},
   "outputs": [],
   "source": [
    "from joblib import dump\n"
   ]
  },
  {
   "cell_type": "code",
   "execution_count": 69,
   "metadata": {},
   "outputs": [
    {
     "data": {
      "text/plain": [
       "['/content/PRIORIZAR-1/modelo/retipificacion.joblib']"
      ]
     },
     "execution_count": 69,
     "metadata": {},
     "output_type": "execute_result"
    }
   ],
   "source": [
    "dump(value=mode, filename=\"/content/PRIORIZAR/modelo/retipificacion.joblib\")"
   ]
  }
 ],
 "metadata": {
  "kernelspec": {
   "display_name": "Python 3",
   "language": "python",
   "name": "python3"
  },
  "language_info": {
   "codemirror_mode": {
    "name": "ipython",
    "version": 3
   },
   "file_extension": ".py",
   "mimetype": "text/x-python",
   "name": "python",
   "nbconvert_exporter": "python",
   "pygments_lexer": "ipython3",
   "version": "3.10.12"
  },
  "orig_nbformat": 4
 },
 "nbformat": 4,
 "nbformat_minor": 2
}
