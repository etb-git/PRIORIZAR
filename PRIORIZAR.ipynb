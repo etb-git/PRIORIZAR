{
  "nbformat": 4,
  "nbformat_minor": 0,
  "metadata": {
    "colab": {
      "provenance": [],
      "authorship_tag": "ABX9TyOyBy3ZtOIdeoVGDgI4KAAj",
      "include_colab_link": true
    },
    "kernelspec": {
      "name": "python3",
      "display_name": "Python 3"
    },
    "language_info": {
      "name": "python"
    }
  },
  "cells": [
    {
      "cell_type": "markdown",
      "metadata": {
        "id": "view-in-github",
        "colab_type": "text"
      },
      "source": [
        "<a href=\"https://colab.research.google.com/github/etb-git/PRIORIZAR/blob/main/PRIORIZAR.ipynb\" target=\"_parent\"><img src=\"https://colab.research.google.com/assets/colab-badge.svg\" alt=\"Open In Colab\"/></a>"
      ]
    },
    {
      "cell_type": "markdown",
      "source": [
        "En este notebook se hara el proceso de **PRIORIZAR** , se tomaran las PQR Desde enero del **2023 a Marzo(perido de tres meses)**"
      ],
      "metadata": {
        "id": "asfRC48B3cr8"
      }
    },
    {
      "cell_type": "markdown",
      "source": [
        "# LIBRERIAS"
      ],
      "metadata": {
        "id": "QdSySf-J3Oiy"
      }
    },
    {
      "cell_type": "markdown",
      "source": [
        "# ETLN"
      ],
      "metadata": {
        "id": "26MilXbg3TbA"
      }
    },
    {
      "cell_type": "markdown",
      "source": [
        "# CANTIDAD DE SINTOMAS DE PQR"
      ],
      "metadata": {
        "id": "Bk_LT12V0oqL"
      }
    },
    {
      "cell_type": "markdown",
      "source": [
        "## CANTIDAD CLIENTES UNICOS POR SINTOMA"
      ],
      "metadata": {
        "id": "Pr9Hucvx1Mkm"
      }
    },
    {
      "cell_type": "markdown",
      "source": [
        "###  CLIENTES NUEVOS (90 DIAS)"
      ],
      "metadata": {
        "id": "PGpZ9miv2b42"
      }
    },
    {
      "cell_type": "markdown",
      "source": [
        "### INTENCIONES UNICAS 45 DIAS DE GENERADA LA PQR"
      ],
      "metadata": {
        "id": "fRJ2M0762inq"
      }
    }
  ]
}